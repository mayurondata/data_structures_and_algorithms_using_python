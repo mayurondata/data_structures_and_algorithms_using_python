{
 "cells": [
  {
   "cell_type": "markdown",
   "id": "99db0f64",
   "metadata": {},
   "source": [
    "DATA STRUCTURES AND ALGORITHMS IN PYTHON(NPTEL)"
   ]
  },
  {
   "cell_type": "code",
   "execution_count": 7,
   "id": "056e58ee",
   "metadata": {},
   "outputs": [],
   "source": [
    "#a comment is a statement that we put is a program to explain what is going on to a person reading \n",
    "#the program and is ignored by the computer executing the program...."
   ]
  },
  {
   "cell_type": "code",
   "execution_count": 1,
   "id": "c8a0f4ca",
   "metadata": {},
   "outputs": [
    {
     "data": {
      "text/plain": [
       "7"
      ]
     },
     "execution_count": 1,
     "metadata": {},
     "output_type": "execute_result"
    }
   ],
   "source": [
    "def gcd(m , n):\n",
    "    lm = []\n",
    "    for i in range(1 , m):\n",
    "        if m % i  == 0:\n",
    "            lm.append(i)\n",
    "    ln = []\n",
    "    for j in range(1 , n ):\n",
    "        if n % j  == 0:\n",
    "            ln.append(j)\n",
    "    cf = []\n",
    "    for f in lm:\n",
    "        if f in ln:\n",
    "            cf.append(f)\n",
    "    return cf[-1]\n",
    "gcd(14  , 63)"
   ]
  },
  {
   "cell_type": "code",
   "execution_count": 2,
   "id": "9735537d",
   "metadata": {},
   "outputs": [],
   "source": [
    "# can we do better? "
   ]
  },
  {
   "cell_type": "code",
   "execution_count": 3,
   "id": "5e07feec",
   "metadata": {},
   "outputs": [
    {
     "data": {
      "text/plain": [
       "12"
      ]
     },
     "execution_count": 3,
     "metadata": {},
     "output_type": "execute_result"
    }
   ],
   "source": [
    "def gcd(m , n):\n",
    "    cf  = []\n",
    "    for i in range(1 , min(m,n) +1 ):\n",
    "        if  (m % i == 0) and (n % i == 0): \n",
    "            cf.append(i)\n",
    "    return cf[-1]\n",
    "\n",
    "gcd(12 , 24)"
   ]
  },
  {
   "cell_type": "code",
   "execution_count": 4,
   "id": "5552cc58",
   "metadata": {},
   "outputs": [],
   "source": [
    "# doing without lists"
   ]
  },
  {
   "cell_type": "code",
   "execution_count": 5,
   "id": "6ac6a998",
   "metadata": {
    "scrolled": false
   },
   "outputs": [
    {
     "data": {
      "text/plain": [
       "12"
      ]
     },
     "execution_count": 5,
     "metadata": {},
     "output_type": "execute_result"
    }
   ],
   "source": [
    "def gcd(m , n): \n",
    "    for i in range(1 , min(m , n)+1):\n",
    "        if (m % i) == 0 and (n % i) == 0:\n",
    "            mrcf = i\n",
    "    return mrcf\n",
    "gcd(12, 24)"
   ]
  },
  {
   "cell_type": "code",
   "execution_count": 6,
   "id": "75948019",
   "metadata": {},
   "outputs": [],
   "source": [
    "# scanning backwards \n",
    "# first common factor is the GCD of m , n!"
   ]
  },
  {
   "cell_type": "code",
   "execution_count": 7,
   "id": "59bcc67a",
   "metadata": {
    "scrolled": true
   },
   "outputs": [
    {
     "data": {
      "text/plain": [
       "3"
      ]
     },
     "execution_count": 7,
     "metadata": {},
     "output_type": "execute_result"
    }
   ],
   "source": [
    "def gcd(m , n):\n",
    "    i = min(m , n)\n",
    "    while i > 0: \n",
    "        if (m % i == 0) and (n % i == 0):\n",
    "            return(i)\n",
    "        else :\n",
    "            i -= 1 \n",
    "# the final optimization of the \"naive\" gcd \n",
    "gcd(12 , 15)"
   ]
  },
  {
   "cell_type": "code",
   "execution_count": 8,
   "id": "dc8548ec",
   "metadata": {},
   "outputs": [],
   "source": [
    "# euclid's algorithm"
   ]
  },
  {
   "cell_type": "code",
   "execution_count": 9,
   "id": "2f1eea37",
   "metadata": {},
   "outputs": [
    {
     "data": {
      "text/plain": [
       "3"
      ]
     },
     "execution_count": 9,
     "metadata": {},
     "output_type": "execute_result"
    }
   ],
   "source": [
    "def gcd(m , n):\n",
    "#     Assume m >= n \n",
    "    if  n > m : \n",
    "        (m , n) = (n , m)\n",
    "        # simultaneos updates \n",
    "    if m % n == 0: \n",
    "        return n \n",
    "    else: \n",
    "        diff = m - n\n",
    "#        diff > n ? Possible!        \n",
    "        return gcd(max(n  , diff), min(n ,diff))\n",
    "gcd(12 , 15)"
   ]
  },
  {
   "cell_type": "code",
   "execution_count": 10,
   "id": "6441c665",
   "metadata": {},
   "outputs": [
    {
     "data": {
      "text/plain": [
       "3"
      ]
     },
     "execution_count": 10,
     "metadata": {},
     "output_type": "execute_result"
    }
   ],
   "source": [
    "# Euclids algorithm again.(Using while loops)\n",
    "def gcd(m , n): \n",
    "    if m < n:\n",
    "        (m ,n) = (n ,m)\n",
    "    while (m%n) != 0: \n",
    "        # here we are doing recursion with a while  \n",
    "        diff  = m - n  \n",
    "        (m , n) = (max(n ,diff) , min(n ,diff))\n",
    "    return(n)\n",
    "gcd(12 ,15)"
   ]
  },
  {
   "cell_type": "code",
   "execution_count": 11,
   "id": "c16183a8",
   "metadata": {},
   "outputs": [],
   "source": [
    "#Euclids algotithm that which was actually proposed "
   ]
  },
  {
   "cell_type": "code",
   "execution_count": 19,
   "id": "cb0ca994",
   "metadata": {
    "scrolled": true
   },
   "outputs": [
    {
     "name": "stdout",
     "output_type": "stream",
     "text": [
      "492 ns ± 1.68 ns per loop (mean ± std. dev. of 7 runs, 1,000,000 loops each)\n"
     ]
    }
   ],
   "source": [
    "def gcd(m , n):\n",
    "    if n > m: \n",
    "        (m , n) = (n , m)\n",
    "    if (m % n) == 0: \n",
    "        return n\n",
    "    else : \n",
    "        return gcd(n  , m%n)\n",
    "gcd(999999 ,10000)"
   ]
  },
  {
   "cell_type": "code",
   "execution_count": 20,
   "id": "bc8ab2d0",
   "metadata": {
    "scrolled": true
   },
   "outputs": [
    {
     "name": "stdout",
     "output_type": "stream",
     "text": [
      "323 ns ± 3.75 ns per loop (mean ± std. dev. of 7 runs, 1,000,000 loops each)\n"
     ]
    }
   ],
   "source": [
    "def gcd(m, n):\n",
    "    if (m < n) : # Assume m >= n\n",
    "        (m ,n) =(n, m)\n",
    "    while (m % n) != 0:\n",
    "        (m ,n) = (n, m%n)\n",
    "    return n \n",
    "gcd(999999 ,10000)"
   ]
  },
  {
   "cell_type": "code",
   "execution_count": 14,
   "id": "60e68015",
   "metadata": {},
   "outputs": [],
   "source": [
    "# the programming part talks about what is the best way to express a given idea in a program in a way \n",
    "# it's easy to maintain,to make sure that is correct and read! \n",
    "# how does one express the idea in a most clear fashion  this is programming\n",
    "# but the idea itself has to be clear and that's where DSA comes..."
   ]
  },
  {
   "cell_type": "code",
   "execution_count": 1,
   "id": "be3920fe",
   "metadata": {},
   "outputs": [],
   "source": [
    "# the power of algorithms is to actually make a program which would otherwise be hopelessly slow \n",
    "# work at a speed that is acceptable"
   ]
  }
 ],
 "metadata": {
  "kernelspec": {
   "display_name": "Python 3 (ipykernel)",
   "language": "python",
   "name": "python3"
  },
  "language_info": {
   "codemirror_mode": {
    "name": "ipython",
    "version": 3
   },
   "file_extension": ".py",
   "mimetype": "text/x-python",
   "name": "python",
   "nbconvert_exporter": "python",
   "pygments_lexer": "ipython3",
   "version": "3.9.12"
  }
 },
 "nbformat": 4,
 "nbformat_minor": 5
}
