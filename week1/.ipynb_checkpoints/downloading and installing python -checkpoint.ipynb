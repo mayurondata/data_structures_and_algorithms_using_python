{
 "cells": [
  {
   "cell_type": "code",
   "execution_count": 1,
   "id": "a5e2d4fa",
   "metadata": {},
   "outputs": [],
   "source": [
    "# python is availible on all platforms : Linux , MacOS , Windows"
   ]
  },
  {
   "cell_type": "markdown",
   "id": "16f48d86",
   "metadata": {},
   "source": [
    "INTERPRETERS VS COMPLIERS "
   ]
  },
  {
   "cell_type": "markdown",
   "id": "a46818b0",
   "metadata": {},
   "source": [
    "* Programming languages are \"high level\" ,for humans to understand \n",
    "* Computers need \"lower level\" instruction\n",
    "* Complier : Translates high level programming language to machine level instructions , generates \n",
    "executable code \n",
    "* interpreter : Itself a program that runs and directly \"understands\" high level programming language.\n",
    "* Python is basically an interpreted language"
   ]
  },
  {
   "cell_type": "code",
   "execution_count": 3,
   "id": "bc0523d3",
   "metadata": {},
   "outputs": [],
   "source": [
    "# the purpose of interpreter is to either excute what we have given to it or tell you that what we have \n",
    "# written is somehow not executable and expalin why.."
   ]
  }
 ],
 "metadata": {
  "kernelspec": {
   "display_name": "Python 3 (ipykernel)",
   "language": "python",
   "name": "python3"
  },
  "language_info": {
   "codemirror_mode": {
    "name": "ipython",
    "version": 3
   },
   "file_extension": ".py",
   "mimetype": "text/x-python",
   "name": "python",
   "nbconvert_exporter": "python",
   "pygments_lexer": "ipython3",
   "version": "3.9.12"
  }
 },
 "nbformat": 4,
 "nbformat_minor": 5
}
