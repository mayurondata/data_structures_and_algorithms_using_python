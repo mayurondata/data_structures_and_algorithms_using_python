{
 "cells": [
  {
   "attachments": {},
   "cell_type": "markdown",
   "id": "ddf2c4ad",
   "metadata": {},
   "source": [
    "### computerphile "
   ]
  },
  {
   "cell_type": "code",
   "execution_count": 1,
   "id": "fc5f476f",
   "metadata": {},
   "outputs": [],
   "source": [
    "# building to the tower of hanoi problem"
   ]
  },
  {
   "cell_type": "code",
   "execution_count": 2,
   "id": "6a70e8dd",
   "metadata": {},
   "outputs": [],
   "source": [
    "# always write steps for solving problems first"
   ]
  },
  {
   "cell_type": "code",
   "execution_count": 3,
   "id": "7b4b1d75",
   "metadata": {},
   "outputs": [
    {
     "name": "stdout",
     "output_type": "stream",
     "text": [
      "Move disc from a to c! \n"
     ]
    }
   ],
   "source": [
    "def move(f , t):\n",
    "    print(\"Move disc from {} to {}! \".format(f, t))\n",
    "move(\"a\" , \"c\")"
   ]
  },
  {
   "cell_type": "code",
   "execution_count": 4,
   "id": "4d65b949",
   "metadata": {},
   "outputs": [],
   "source": [
    "# now lets say we want to move a disc from a point to another pont via some other point "
   ]
  },
  {
   "cell_type": "code",
   "execution_count": 5,
   "id": "9752e86b",
   "metadata": {},
   "outputs": [
    {
     "name": "stdout",
     "output_type": "stream",
     "text": [
      "Move disc from A to B! \n",
      "Move disc from B to C! \n"
     ]
    }
   ],
   "source": [
    "def movevia(f,  v, t):\n",
    "    move(f, v)\n",
    "    move(v,t)\n",
    "# using a function we have already defined \n",
    "movevia(\"A\" , \"B\", \"C\")\n",
    "# the point here we define a function and it call another function\n",
    "# movevia calls move and move itself calls the print function"
   ]
  },
  {
   "cell_type": "code",
   "execution_count": 6,
   "id": "f008aeab",
   "metadata": {},
   "outputs": [
    {
     "ename": "RecursionError",
     "evalue": "maximum recursion depth exceeded",
     "output_type": "error",
     "traceback": [
      "\u001b[1;31m---------------------------------------------------------------------------\u001b[0m",
      "\u001b[1;31mRecursionError\u001b[0m                            Traceback (most recent call last)",
      "Cell \u001b[1;32mIn[6], line 4\u001b[0m\n\u001b[0;32m      2\u001b[0m \u001b[39mdef\u001b[39;00m \u001b[39mfoo\u001b[39m(x) : \n\u001b[0;32m      3\u001b[0m     foo(x)\n\u001b[1;32m----> 4\u001b[0m foo(\u001b[39m3\u001b[39;49m)  \u001b[39m# what will this function do ? \u001b[39;00m\n\u001b[0;32m      5\u001b[0m \u001b[39m# will report an error maximum recursion depth exceeded\u001b[39;00m\n",
      "Cell \u001b[1;32mIn[6], line 3\u001b[0m, in \u001b[0;36mfoo\u001b[1;34m(x)\u001b[0m\n\u001b[0;32m      2\u001b[0m \u001b[39mdef\u001b[39;00m \u001b[39mfoo\u001b[39m(x) : \n\u001b[1;32m----> 3\u001b[0m     foo(x)\n",
      "Cell \u001b[1;32mIn[6], line 3\u001b[0m, in \u001b[0;36mfoo\u001b[1;34m(x)\u001b[0m\n\u001b[0;32m      2\u001b[0m \u001b[39mdef\u001b[39;00m \u001b[39mfoo\u001b[39m(x) : \n\u001b[1;32m----> 3\u001b[0m     foo(x)\n",
      "    \u001b[1;31m[... skipping similar frames: foo at line 3 (2971 times)]\u001b[0m\n",
      "Cell \u001b[1;32mIn[6], line 3\u001b[0m, in \u001b[0;36mfoo\u001b[1;34m(x)\u001b[0m\n\u001b[0;32m      2\u001b[0m \u001b[39mdef\u001b[39;00m \u001b[39mfoo\u001b[39m(x) : \n\u001b[1;32m----> 3\u001b[0m     foo(x)\n",
      "\u001b[1;31mRecursionError\u001b[0m: maximum recursion depth exceeded"
     ]
    }
   ],
   "source": [
    "# a function calling itself?    \n",
    "def foo(x) : \n",
    "    foo(x)\n",
    "foo(3)  # what will this function do ? \n",
    "# will report an error maximum recursion depth exceeded"
   ]
  },
  {
   "cell_type": "code",
   "execution_count": 7,
   "id": "88d36604",
   "metadata": {},
   "outputs": [],
   "source": [
    "def hanoi(n , f , h , t):\n",
    "    if n == 0 : \n",
    "        pass \n",
    "    # n : no of discs \n",
    "    # f : name of the from position\n",
    "    # h : name of the helper position\n",
    "    # t : name of the to positon\n",
    "    else : \n",
    "        hanoi(n-1 , f , t, h)\n",
    "        move(f ,t )\n",
    "        hanoi(n-1 , h ,f , t)"
   ]
  },
  {
   "attachments": {},
   "cell_type": "markdown",
   "id": "5a8b3037",
   "metadata": {},
   "source": [
    "code traversal and explaination ChatGPT response "
   ]
  },
  {
   "attachments": {},
   "cell_type": "markdown",
   "id": "20d38335",
   "metadata": {},
   "source": [
    "Certainly! The code you provided is an implementation of the Tower of Hanoi problem using recursion. The Tower of Hanoi is a mathematical puzzle that involves moving a stack of disks from one peg to another, with the constraint that a larger disk cannot be placed on top of a smaller disk. The goal is to move the entire stack of disks from the source peg (f) to the target peg (t), using a helper peg (h) as necessary.\n",
    "\n",
    "Let's go through the code step by step:\n",
    "\n",
    "1. The `move` function is a helper function that prints the movement of a single disk from one position to another. It takes two arguments: `f` (the from position) and `t` (the to position). When called, it prints a message indicating the movement of the disk from `f` to `t`.\n",
    "\n",
    "2. The `hanoi` function is the recursive function that solves the Tower of Hanoi problem. It takes four arguments: `n` (the number of disks), `f` (the name of the from position), `h` (the name of the helper position), and `t` (the name of the to position).\n",
    "\n",
    "3. The base case of the recursion is when `n` is equal to 0. In this case, there are no disks to move, so the function does nothing (`pass` statement).\n",
    "\n",
    "4. In the recursive case, the function first calls itself recursively with `n-1` disks, moving them from the source peg (`f`) to the helper peg (`h`). This step is achieved by swapping the target and helper positions in the recursive call: `hanoi(n-1, f, t, h)`. This recursive call effectively moves all the disks except the largest one to the helper peg.\n",
    "\n",
    "5. After the recursive call, the `move` function is called to move the largest disk from the source peg (`f`) to the target peg (`t`), using the `move(f, t)` statement. This prints the movement of the largest disk.\n",
    "\n",
    "6. Finally, another recursive call is made to move the `n-1` disks from the helper peg (`h`) to the target peg (`t`). This step is similar to step 4 but with the positions swapped: `hanoi(n-1, h, f, t)`. This recursive call effectively moves all the disks from the helper peg to the target peg.\n",
    "\n",
    "By using recursion and breaking down the problem into smaller subproblems, the `hanoi` function can solve the Tower of Hanoi problem for any given number of disks."
   ]
  },
  {
   "attachments": {},
   "cell_type": "markdown",
   "id": "14d37b37",
   "metadata": {},
   "source": [
    "Certainly! Let's go through the code step by step with the provided inputs `(4, \"A\", \"B\", \"C\")` and visualize the recursion stacks.\n",
    "\n",
    "Initially, the `hanoi` function is called with `n = 4`, `f = \"A\"`, `h = \"B\"`, and `t = \"C\"`.\n",
    "\n",
    "1. Since `n` is not equal to 0, the else part of the code is executed.\n",
    "\n",
    "2. The first recursive call is made:\n",
    "   - `hanoi(n-1, f, t, h)`, which becomes `hanoi(3, \"A\", \"C\", \"B\")`.\n",
    "\n",
    "3. Now, the recursive call `hanoi(3, \"A\", \"C\", \"B\")` is made:\n",
    "   - Again, `n` is not equal to 0, so the else part is executed.\n",
    "   - The first recursive call is made:\n",
    "     - `hanoi(n-1, f, t, h)`, which becomes `hanoi(2, \"A\", \"B\", \"C\")`.\n",
    "\n",
    "4. The recursive call `hanoi(2, \"A\", \"B\", \"C\")` is made:\n",
    "   - `n` is not equal to 0, so the else part is executed.\n",
    "   - The first recursive call is made:\n",
    "     - `hanoi(n-1, f, t, h)`, which becomes `hanoi(1, \"A\", \"C\", \"B\")`.\n",
    "\n",
    "5. The recursive call `hanoi(1, \"A\", \"C\", \"B\")` is made:\n",
    "   - `n` is not equal to 0, so the else part is executed.\n",
    "   - The first recursive call is made:\n",
    "     - `hanoi(n-1, f, t, h)`, which becomes `hanoi(0, \"A\", \"B\", \"C\")`.\n",
    "\n",
    "6. Now, `hanoi(0, \"A\", \"B\", \"C\")` is called.\n",
    "   - Since `n` is equal to 0, the base case is reached, and the `pass` statement is executed. This call does nothing.\n",
    "\n",
    "7. Going back to the previous recursive call `hanoi(1, \"A\", \"C\", \"B\")`, the `move(\"A\", \"B\")` statement is executed, which prints \"Move the disc from A to B\".\n",
    "\n",
    "8. The second recursive call is made:\n",
    "   - `hanoi(n-1, h, f, t)`, which becomes `hanoi(0, \"C\", \"A\", \"B\")`.\n",
    "\n",
    "9. Similar to step 6, the `hanoi(0, \"C\", \"A\", \"B\")` call does nothing.\n",
    "\n",
    "10. Going back to the previous recursive call `hanoi(2, \"A\", \"B\", \"C\")`, the `move(\"A\", \"C\")` statement is executed, which prints \"Move the disc from A to C\".\n",
    "\n",
    "11. The second recursive call is made:\n",
    "   - `hanoi(n-1, h, f, t)`, which becomes `hanoi(1, \"B\", \"A\", \"C\")`.\n",
    "\n",
    "12. The recursive call `hanoi(1, \"B\", \"A\", \"C\")` is made.\n",
    "   - The first recursive call is made:\n",
    "     - `hanoi(n-1, f, t, h)`, which becomes `hanoi(0, \"B\", \"C\", \"A\")`.\n",
    "\n",
    "13. Similar to step 6, the `hanoi(0, \"B\", \"C\", \"A\")` call does nothing.\n",
    "\n",
    "14\n",
    "\n",
    ". Going back to the previous recursive call `hanoi(1, \"B\", \"A\", \"C\")`, the `move(\"B\", \"C\")` statement is executed, which prints \"Move the disc from B to C\".\n",
    "\n",
    "15. Finally, going back to the initial recursive call `hanoi(3, \"A\", \"C\", \"B\")`, the second recursive call is made:\n",
    "    - `hanoi(n-1, h, f, t)`, which becomes `hanoi(2, \"B\", \"A\", \"C\")`.\n",
    "\n",
    "16. The recursive call `hanoi(2, \"B\", \"A\", \"C\")` is made.\n",
    "    - Similar to step 4, the steps 4-14 are repeated, but with the positions swapped.\n",
    "\n",
    "17. Going back to the initial call `hanoi(4, \"A\", \"B\", \"C\")`, the final move `move(\"A\", \"C\")` is executed, which prints \"Move the disc from A to C\".\n",
    "\n",
    "By following this process, all the discs are moved from peg A to peg C, solving the Tower of Hanoi problem."
   ]
  },
  {
   "cell_type": "code",
   "execution_count": 8,
   "id": "45303303",
   "metadata": {},
   "outputs": [
    {
     "name": "stdout",
     "output_type": "stream",
     "text": [
      "Move disc from A to B! \n",
      "Move disc from A to C! \n",
      "Move disc from B to C! \n",
      "Move disc from A to B! \n",
      "Move disc from C to A! \n",
      "Move disc from C to B! \n",
      "Move disc from A to B! \n",
      "Move disc from A to C! \n",
      "Move disc from B to C! \n",
      "Move disc from B to A! \n",
      "Move disc from C to A! \n",
      "Move disc from B to C! \n",
      "Move disc from A to B! \n",
      "Move disc from A to C! \n",
      "Move disc from B to C! \n"
     ]
    }
   ],
   "source": [
    "hanoi(4 ,\"A\", \"B\", \"C\")"
   ]
  },
  {
   "cell_type": "code",
   "execution_count": 2,
   "id": "ae45998c",
   "metadata": {},
   "outputs": [],
   "source": [
    "# we can solve the tower of hanoi problem using recursion."
   ]
  },
  {
   "attachments": {},
   "cell_type": "markdown",
   "id": "cfb1378e",
   "metadata": {},
   "source": [
    "other reference "
   ]
  },
  {
   "attachments": {},
   "cell_type": "markdown",
   "id": "29f5676d",
   "metadata": {},
   "source": [
    "- a function calling itself is called recursion\n",
    "-inside the function defination we call the same function"
   ]
  },
  {
   "attachments": {},
   "cell_type": "markdown",
   "id": "2536a9c4",
   "metadata": {},
   "source": [
    "there must be two cases\n",
    "- one is called the base case (terminating from recursion i.e stopping the function from calling itself)\n",
    "- another one is called the recursive case(calling itself)\n",
    "#### every recursion function should terminate after some finite recursive calls \n"
   ]
  },
  {
   "attachments": {},
   "cell_type": "markdown",
   "id": "0070235c",
   "metadata": {},
   "source": [
    "ALGORITHMIC EFFICIENCY FOR DATA SCIECNCE (MACHINE LEARNING BOOK REFERENCE)"
   ]
  },
  {
   "attachments": {},
   "cell_type": "markdown",
   "id": "7decfdfd",
   "metadata": {},
   "source": [
    "not all algorithms capable of solving a problem are practical. Some can be too slow , Some problems can be solved by a faster algorithm , for others not fast algorithms can exist. \n",
    "The subfield of computer science called analysis of algorithms is concerned with determining and comparing the complexity of algorithms. The big O notation is used to classify algorithms according to how their running time or space requirements grow as input size grows.\n",
    "For example let's say we have the problem of finding the two most distant one dimensional examples in the set of examples S of size N. One algorithm  we could craft to sole this problem would look like this \n",
    "```python \n",
    "def find_max_distance(S): \n",
    "    result = None \n",
    "    max_distance = 0 \n",
    "    for x1 is S: \n",
    "        for x2 in S: \n",
    "            if abs(x1 - x2 ) >= max_distance: \n",
    "                max_distance = abs(x1-x2)\n",
    "                result = (x1 , x2 )\n",
    "    return result\n",
    "```\n",
    "in the above algorithm , we loop over all values in S, and at every iteration of the first loop, we loop over all values S again. Therefore, the above algorithm makes N**2 comparisions of numbers. if we take as a unit time the time the comparision, abs and assignment oprations take , then the time complexity (or simply , complexity) of this algorithm is at most 5N^2 .(At each iteration, we have one comparision , two abs and two assignment opearions.) when the complexity of an algorithm is measured in the worst case , the big O notation is used. For the above algorithm , using bigO notation we write that the algorithm's complexity is O(N^2 ); the constants like 5 are ignored. \n",
    "\n",
    "for the same problem we can craft another algorithm like this : \n",
    "```python \n",
    "def find_max_distance(S): \n",
    "    \"\"\"this is so ingenious\"\"\"\n",
    "    result = None \n",
    "    min_x  = float(\"inf\")\n",
    "    max_x  = float(\"-inf\")\n",
    "    for x in S : \n",
    "        if x  < min_x : \n",
    "            min_x = x \n",
    "        elif x > max_x : \n",
    "            max_x = x \n",
    "    result = (max_x , min_x)\n",
    "    return result \n",
    "```"
   ]
  }
 ],
 "metadata": {
  "kernelspec": {
   "display_name": "Python 3 (ipykernel)",
   "language": "python",
   "name": "python3"
  },
  "language_info": {
   "codemirror_mode": {
    "name": "ipython",
    "version": 3
   },
   "file_extension": ".py",
   "mimetype": "text/x-python",
   "name": "python",
   "nbconvert_exporter": "python",
   "pygments_lexer": "ipython3",
   "version": "3.11.1"
  }
 },
 "nbformat": 4,
 "nbformat_minor": 5
}
