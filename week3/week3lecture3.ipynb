{
 "cells": [
  {
   "attachments": {},
   "cell_type": "markdown",
   "metadata": {},
   "source": [
    "Breaking out of a loop"
   ]
  },
  {
   "cell_type": "code",
   "execution_count": 1,
   "metadata": {},
   "outputs": [],
   "source": [
    "#Sometimes we may want to cut short the loop and not proceed till the very end."
   ]
  },
  {
   "cell_type": "code",
   "execution_count": 2,
   "metadata": {},
   "outputs": [],
   "source": [
    "# a function findpos which finds the first posistion for a value in a list "
   ]
  },
  {
   "cell_type": "code",
   "execution_count": 9,
   "metadata": {},
   "outputs": [],
   "source": [
    "def findpos(l , v):\n",
    "    #Return first position of v in l\n",
    "    #Return -1 if v not in l\n",
    "    (found  ,i ) = (False , 0)\n",
    "    while i < len(l): \n",
    "        if not found and l[i] == v: \n",
    "            (found ,pos) = (True , i )\n",
    "        i +=  1 \n",
    "    if not found : \n",
    "        pos = -1 \n",
    "    return(pos)\n",
    "# the problem with this approach... \n",
    "# so regardless of where we find the first occurance of the value we still will scan the entire list \n",
    "# this seems very unnecessay (effiicency issue)\n"
   ]
  },
  {
   "attachments": {},
   "cell_type": "markdown",
   "metadata": {},
   "source": [
    "A more natural strategy\n",
    "- Scan list for value \n",
    "- Stop scan as soon as we find the value \n",
    "- if the scan completes without success , report -1 "
   ]
  },
  {
   "cell_type": "code",
   "execution_count": 10,
   "metadata": {},
   "outputs": [
    {
     "data": {
      "text/plain": [
       "3"
      ]
     },
     "execution_count": 10,
     "metadata": {},
     "output_type": "execute_result"
    }
   ],
   "source": [
    "findpos([1,2 ,3 ,4 ,5] , 4)"
   ]
  },
  {
   "cell_type": "code",
   "execution_count": 18,
   "metadata": {},
   "outputs": [],
   "source": [
    "# A more natural strategy\n",
    "def findpos(l ,v):\n",
    "    (pos , i) =  (-1 , 0)\n",
    "    for x in l:\n",
    "        if x == v : \n",
    "            pos = i \n",
    "            break # a break statement to get out of the loop so that we don't unecessarily scan...\n",
    "        i = i + 1 \n",
    "    # if pos not reset in loop, pos is -1 \n",
    "    return(pos)"
   ]
  },
  {
   "cell_type": "code",
   "execution_count": 20,
   "metadata": {},
   "outputs": [],
   "source": [
    "# if we break ---> value is found \n",
    "# terminate normally --> value is not found"
   ]
  },
  {
   "cell_type": "code",
   "execution_count": 21,
   "metadata": {},
   "outputs": [],
   "source": [
    "# can we detect whether we broke out of the loops or we terminated seperately"
   ]
  },
  {
   "attachments": {},
   "cell_type": "markdown",
   "metadata": {},
   "source": [
    "### Search for value in a list "
   ]
  },
  {
   "cell_type": "code",
   "execution_count": 23,
   "metadata": {},
   "outputs": [],
   "source": [
    "# A loop can also have an else!\n",
    "# the else will be executed if there is no break if  loop terminated normally.\n",
    "def findpos(l , v):\n",
    "    for i in range(len(l)):\n",
    "        if l[i] == v: # Exit, report position\n",
    "            pos = i\n",
    "            break\n",
    "    else :             # No break ,v not in l\n",
    "        pos = -1\n",
    "    return pos"
   ]
  },
  {
   "attachments": {},
   "cell_type": "markdown",
   "metadata": {},
   "source": [
    "## summary"
   ]
  },
  {
   "cell_type": "code",
   "execution_count": 25,
   "metadata": {},
   "outputs": [],
   "source": [
    "# Can exit prematurely from loop using break \n",
    "    # Applies to both for and and while \n",
    "#Loops also has an else: clause \n",
    "    #Special action for normal termination\n",
    "    #the statements within else is executed only when loop terminates normally."
   ]
  },
  {
   "cell_type": "code",
   "execution_count": 1,
   "metadata": {},
   "outputs": [
    {
     "name": "stdout",
     "output_type": "stream",
     "text": [
      "1\n",
      "2\n",
      "3\n",
      "4\n",
      "5\n",
      "Hit the for/else statement\n"
     ]
    }
   ],
   "source": [
    "my_list = [1, 2, 3, 4, 5 ]\n",
    "for i in my_list: \n",
    "    print(i)\n",
    "else : \n",
    "    print(\"Hit the for/else statement\")"
   ]
  },
  {
   "cell_type": "code",
   "execution_count": 6,
   "metadata": {},
   "outputs": [
    {
     "name": "stdout",
     "output_type": "stream",
     "text": [
      "1\n",
      "2\n",
      "3\n"
     ]
    }
   ],
   "source": [
    "my_list = [1, 2, 3, 4, 5 ]\n",
    "for i in my_list: \n",
    "    print(i)\n",
    "    if i == 3 : \n",
    "        break\n",
    "else : \n",
    "    print(\"Hit the for/else statement\")\n",
    "# One of the developers at pycon was supposed to name this statement as \"nobreak\" because if nobreak was hit then execute the \n",
    "# statement. this is also true for while statements"
   ]
  },
  {
   "cell_type": "code",
   "execution_count": 10,
   "metadata": {},
   "outputs": [
    {
     "name": "stdout",
     "output_type": "stream",
     "text": [
      "1\n",
      "2\n"
     ]
    }
   ],
   "source": [
    "i = 1 \n",
    "while i < 5 : \n",
    "    print(i)\n",
    "    i += 1 \n",
    "    if i == 3 : \n",
    "        break \n",
    "else: \n",
    "    print(\"Hit the while/else statement\")"
   ]
  },
  {
   "attachments": {},
   "cell_type": "markdown",
   "metadata": {},
   "source": [
    "# A practical usecase for using else with while:"
   ]
  },
  {
   "cell_type": "code",
   "execution_count": 20,
   "metadata": {},
   "outputs": [
    {
     "name": "stdout",
     "output_type": "stream",
     "text": [
      "location of target is index 0\n"
     ]
    }
   ],
   "source": [
    "def find_index(to_search , target ): \n",
    "    for i , value in enumerate(to_search): \n",
    "        if value == target :\n",
    "            break \n",
    "    else : \n",
    "        return -1 \n",
    "    return i \n",
    "my_list = ['Corey', 'Rick' , 'John']\n",
    "index_location = find_index(my_list , 'Corey')\n",
    "print('location of target is index {}'.format(index_location))"
   ]
  },
  {
   "attachments": {},
   "cell_type": "markdown",
   "metadata": {},
   "source": [
    "A function can only return one output at a time. Meaning if you have more than one return statements in the quesiton, only the first\n",
    "`one would be executed and any line written after that statement won't be executed"
   ]
  }
 ],
 "metadata": {
  "kernelspec": {
   "display_name": "Python 3",
   "language": "python",
   "name": "python3"
  },
  "language_info": {
   "codemirror_mode": {
    "name": "ipython",
    "version": 3
   },
   "file_extension": ".py",
   "mimetype": "text/x-python",
   "name": "python",
   "nbconvert_exporter": "python",
   "pygments_lexer": "ipython3",
   "version": "3.11.1"
  },
  "orig_nbformat": 4
 },
 "nbformat": 4,
 "nbformat_minor": 2
}
