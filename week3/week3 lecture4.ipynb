{
 "cells": [
  {
   "attachments": {},
   "cell_type": "markdown",
   "metadata": {},
   "source": [
    "### arrays vs list ,binary search"
   ]
  },
  {
   "cell_type": "code",
   "execution_count": 1,
   "metadata": {},
   "outputs": [],
   "source": [
    "# is value v present in collection sequence seq? \n",
    "# the unsorted case "
   ]
  },
  {
   "cell_type": "code",
   "execution_count": 13,
   "metadata": {},
   "outputs": [],
   "source": [
    "def search(seq ,v): \n",
    "    for x in seq: \n",
    "        if x == v: \n",
    "            return(True)\n",
    "    return(False)"
   ]
  },
  {
   "cell_type": "code",
   "execution_count": 7,
   "metadata": {},
   "outputs": [
    {
     "data": {
      "text/plain": [
       "True"
      ]
     },
     "execution_count": 7,
     "metadata": {},
     "output_type": "execute_result"
    }
   ],
   "source": [
    "search([1 ,2 ,3 ,4], 4)\n",
    "# the problem with the function is that we have no solution to search other than to scan from beginning to end"
   ]
  },
  {
   "attachments": {},
   "cell_type": "markdown",
   "metadata": {},
   "source": [
    "# Binary search"
   ]
  },
  {
   "cell_type": "code",
   "execution_count": 9,
   "metadata": {},
   "outputs": [
    {
     "data": {
      "text/plain": [
       "False"
      ]
     },
     "execution_count": 9,
     "metadata": {},
     "output_type": "execute_result"
    }
   ],
   "source": [
    "def bsearch(seq, v , l, r): \n",
    "    # Search for v in seq[l : r ](upto but not including logic) , seq is sorted \n",
    "    if (r -l == 0):     # slice empty \n",
    "        return(False)\n",
    "    mid = (l + r) // 2  # // integer division\n",
    "    if (v == seq[mid]):\n",
    "        return(True)\n",
    "    if (v < seq[mid]):\n",
    "        return (bsearch(seq, v , l , mid))\n",
    "    else: \n",
    "        return(bsearch(seq , v , mid + 1 ,r ))\n",
    "bsearch([3 ,4 ,5, 6 ] , 2  , 0 , 3)"
   ]
  },
  {
   "cell_type": "code",
   "execution_count": 11,
   "metadata": {},
   "outputs": [
    {
     "data": {
      "text/plain": [
       "[6]"
      ]
     },
     "execution_count": 11,
     "metadata": {},
     "output_type": "execute_result"
    }
   ],
   "source": [
    "# essentially the question that I want to ask is when does the search space become zero or \n",
    "# search space become one \n",
    "l = [3 ,4 ,5 ,6]\n",
    "l[3 : 3] # slice is empty \n",
    "l[3 : 4] # slice is one "
   ]
  },
  {
   "cell_type": "code",
   "execution_count": 26,
   "metadata": {},
   "outputs": [],
   "source": [
    "phi = [1 , 2, 3, 123 ,34 ,3 ,343 ,34 ,3235 ,123, 5, 5, 6, 54 , 235 ,4  ]\n",
    "phi.sort()"
   ]
  },
  {
   "cell_type": "code",
   "execution_count": 27,
   "metadata": {},
   "outputs": [
    {
     "name": "stdout",
     "output_type": "stream",
     "text": [
      "[1, 2, 3, 3, 4, 5, 5, 6, 34, 34, 54, 123, 123, 235, 343, 3235]\n"
     ]
    }
   ],
   "source": []
  },
  {
   "cell_type": "code",
   "execution_count": 28,
   "metadata": {},
   "outputs": [
    {
     "name": "stdout",
     "output_type": "stream",
     "text": [
      "389 ns ± 6.53 ns per loop (mean ± std. dev. of 7 runs, 1,000,000 loops each)\n"
     ]
    }
   ],
   "source": [
    "%%timeit \n",
    "search(phi , 4 )\n",
    "%%timeit\n",
    "bsearch(phi , 4 , 0 , len(phi) -1  )"
   ]
  },
  {
   "cell_type": "code",
   "execution_count": 29,
   "metadata": {},
   "outputs": [
    {
     "name": "stdout",
     "output_type": "stream",
     "text": [
      "783 ns ± 158 ns per loop (mean ± std. dev. of 7 runs, 1,000,000 loops each)\n"
     ]
    }
   ],
   "source": [
    "%%timeit\n",
    "bsearch(phi , 4 , 0 , len(phi) -1  )"
   ]
  },
  {
   "attachments": {},
   "cell_type": "markdown",
   "metadata": {},
   "source": [
    "Thank you for providing the sorted sequence `phi`. With the provided sequence, binary search should be more efficient compared to linear search.\n",
    "\n",
    "However, in your specific test case, the time difference you observed could be due to the overhead of the recursive calls in the binary search function. Recursive function calls have some additional cost associated with them, such as the creation of new stack frames for each recursive call.\n",
    "\n",
    "On the other hand, linear search in your code is implemented using a simple loop without any recursion, which can be more straightforward and potentially faster for smaller sequences.\n",
    "\n",
    "The overall time complexity of both binary search and linear search is different. Binary search has a time complexity of O(log n), while linear search has a time complexity of O(n). However, for small sequences or specific input cases, the constant factors and implementation details can affect the actual running time.\n",
    "\n",
    "To have a more accurate understanding of the performance difference between binary search and linear search for your specific case, you can consider using more extensive test cases and profiling tools to analyze the execution time in detail."
   ]
  }
 ],
 "metadata": {
  "kernelspec": {
   "display_name": "Python 3",
   "language": "python",
   "name": "python3"
  },
  "language_info": {
   "codemirror_mode": {
    "name": "ipython",
    "version": 3
   },
   "file_extension": ".py",
   "mimetype": "text/x-python",
   "name": "python",
   "nbconvert_exporter": "python",
   "pygments_lexer": "ipython3",
   "version": "3.11.1"
  },
  "orig_nbformat": 4
 },
 "nbformat": 4,
 "nbformat_minor": 2
}
