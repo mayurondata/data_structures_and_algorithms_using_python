{
 "cells": [
  {
   "attachments": {},
   "cell_type": "markdown",
   "metadata": {},
   "source": [
    "Selection sort is a simple sorting algorithm that repeatedly finds the minimum element from the unsorted part of the list and swaps it with the first unsorted element."
   ]
  },
  {
   "attachments": {},
   "cell_type": "markdown",
   "metadata": {},
   "source": [
    "SELECTION SORT"
   ]
  },
  {
   "cell_type": "code",
   "execution_count": 4,
   "metadata": {},
   "outputs": [],
   "source": [
    "def selectionSort(l):\n",
    "    \"\"\"\n",
    "    Sorts a list of elements using the selection sort algorithm.\n",
    "\n",
    "    Args:\n",
    "        l (list): The list of elements to be sorted.\n",
    "\n",
    "    Returns:\n",
    "        None: The function modifies the input list in-place.\n",
    "\n",
    "    Description:\n",
    "        The selection sort algorithm repeatedly scans the unsorted part of the list\n",
    "        and selects the minimum element. It then swaps the minimum element with the\n",
    "        first unsorted element, effectively building a sorted portion of the list\n",
    "        from left to right. The process continues until the entire list is sorted.\n",
    "    \"\"\"\n",
    "    # Implementation code here\n",
    "\n",
    "    #Scan slices l[0 : len(l)] , l[1 : len(l)] ,...\n",
    "    for start in range(len(l)): \n",
    "        # Find minimum value in the slice....\n",
    "        minpos = start \n",
    "        for i in range(start , len(l)): \n",
    "            if l[i] < l[minpos]:\n",
    "                minpos = i \n",
    "        #.... and move it to start of slice \n",
    "        (l[start] , l[minpos]) = (l[minpos] , l[start])"
   ]
  },
  {
   "attachments": {},
   "cell_type": "markdown",
   "metadata": {},
   "source": [
    "The code you provided is an implementation of the selection sort algorithm. Selection sort is a simple sorting algorithm that repeatedly finds the minimum \n",
    "element from the unsorted part of the list and swaps it with the first unsorted element.\n",
    "\n",
    "Here's a high-level explanation of the code:\n",
    "\n",
    "1. The `selectionSort` function takes a list `l` as input.\n",
    "\n",
    "2. The outer loop, `for start in range(len(l))`, iterates over each element in the list, starting from the first element.\n",
    "\n",
    "3. Inside the outer loop, there is an inner loop, `for i in range(start, len(l))`, which scans the remaining unsorted part of the list.\n",
    "\n",
    "4. Within the inner loop, the algorithm finds the minimum value in the unsorted part of the list by comparing each element with the current \n",
    "   minimum value (`l[minpos]`). If a smaller value is found, the `minpos` variable is updated to the index of the new minimum value.\n",
    "\n",
    "5. Once the inner loop finishes, the algorithm has identified the minimum value in the remaining unsorted part of the list.\n",
    "\n",
    "6. The algorithm then swaps the minimum value (`l[minpos]`) with the first element of the unsorted part of the list (`l[start]`), effectively moving the minimum value to its correct sorted position.\n",
    "\n",
    "7. The outer loop continues to the next iteration, and the process repeats until the entire list is sorted.\n",
    "\n",
    "In summary, the selection sort algorithm repeatedly finds the minimum value from the unsorted part of the list and swaps it with the first unsorted element, gradually building a sorted portion of the list from left to right."
   ]
  },
  {
   "attachments": {},
   "cell_type": "markdown",
   "metadata": {},
   "source": [
    "### We said that for sorting algorithm like Selection Sort , which takes order n square O(n^2) ... will not work\n",
    "### for very large values say about 5000 or above..."
   ]
  },
  {
   "cell_type": "code",
   "execution_count": 7,
   "metadata": {},
   "outputs": [
    {
     "name": "stdout",
     "output_type": "stream",
     "text": [
      "[7, 3, 9]\n",
      "[3, 7, 9]\n"
     ]
    }
   ],
   "source": [
    "def SelectionSort(l): \n",
    "    for start in range(0 , len(l)): \n",
    "        minpos =  start \n",
    "        for i in range(start, len(l)): \n",
    "            if l[i] < l[minpos]: \n",
    "                minpos = i \n",
    "        (l[start] , l[minpos]) = (l[minpos], l[start])\n",
    "l = [7 ,3 , 9]\n",
    "print(l)\n",
    "SelectionSort(l)\n",
    "print(l)"
   ]
  },
  {
   "attachments": {},
   "cell_type": "markdown",
   "metadata": {},
   "source": [
    "Certainly! Let's go through the code step by step with the input list `[7, 3, 9]`:\n",
    "\n",
    "Step 1:\n",
    "The input list is `[7, 3, 9]`. The `SelectionSort` function is called with this list.\n",
    "\n",
    "Step 2:\n",
    "The first loop starts with `start = 0`. The `minpos` variable is initialized to `start`, which is `0`.\n",
    "\n",
    "Step 3:\n",
    "The second loop starts with `i = start`, which is `0`. Since `l[i]` is `7` and `l[minpos]` is also `7`, the condition `l[i] < l[minpos]` is not satisfied. Therefore, the `minpos` remains `0`.\n",
    "\n",
    "Step 4:\n",
    "The second loop continues with `i = 1`. Now, `l[i]` is `3` and `l[minpos]` is `7`. Since `3` is less than `7`, the condition `l[i] < l[minpos]` is true. So, the `minpos` is updated to `1`.\n",
    "\n",
    "Step 5:\n",
    "The second loop continues with `i = 2`. Now, `l[i]` is `9` and `l[minpos]` is `3`. Since `9` is not less than `3`, the condition `l[i] < l[minpos]` is false. Therefore, the `minpos` remains `1`.\n",
    "\n",
    "Step 6:\n",
    "The inner loop ends, and we have found the minimum value in the remaining unsorted portion of the list. We swap the values at `l[start]` and `l[minpos]`, which means we swap the values at `l[0]` and `l[1]`. The list becomes `[3, 7, 9]`.\n",
    "\n",
    "Step 7:\n",
    "The first loop continues with `start = 1`.\n",
    "\n",
    "Step 8:\n",
    "The second loop starts with `i = start`, which is `1`. Now, `l[i]` is `7` and `l[minpos]` is `7`. The condition `l[i] < l[minpos]` is not satisfied. Therefore, the `minpos` remains `1`.\n",
    "\n",
    "Step 9:\n",
    "The second loop continues with `i = 2`. Now, `l[i]` is `9` and `l[minpos]` is `7`. Since `9` is not less than `7`, the condition `l[i] < l[minpos]` is false. Therefore, the `minpos` remains `1`.\n",
    "\n",
    "Step 10:\n",
    "The inner loop ends, and we have found the minimum value in the remaining unsorted portion of the list. Since the minimum value is already at the correct position, no swap is needed.\n",
    "\n",
    "Step 11:\n",
    "The first loop continues with `start = 2`.\n",
    "\n",
    "Step 12:\n",
    "The second loop starts with `i = start`, which is `2`. Now, `l[i]` is `9` and `l[minpos]` is also `9`. The condition `l[i] < l[minpos]` is not satisfied. Therefore, the `minpos` remains `2`.\n",
    "\n",
    "Step 13:\n",
    "The inner loop ends, and we have found the minimum value in the remaining unsorted portion of the list. Since the minimum value is already at the correct position, no swap is needed.\n",
    "\n",
    "Step 14:\n",
    "The first loop ends, and the sorting process is complete. The final sorted list is `[3, 7, 9]`.\n",
    "\n",
    "That's it! The code performs selection sort on the input list `[7, 3, 9]` and sorts it in ascending order."
   ]
  },
  {
   "cell_type": "code",
   "execution_count": 11,
   "metadata": {},
   "outputs": [],
   "source": [
    "# now our claim is that this will stop working effectively around 5000 \n",
    "# we can see that there is an appreciable gap in running differnt cells...for different input sizes "
   ]
  },
  {
   "cell_type": "code",
   "execution_count": 5,
   "metadata": {},
   "outputs": [],
   "source": [
    "l = list(range(500 , 0 , -1))\n",
    "selectionSort(l)"
   ]
  },
  {
   "cell_type": "code",
   "execution_count": 7,
   "metadata": {},
   "outputs": [],
   "source": [
    "l = list(range(1000, 0, -1 ))\n",
    "selectionSort(l)"
   ]
  },
  {
   "cell_type": "code",
   "execution_count": 10,
   "metadata": {},
   "outputs": [],
   "source": [
    "l = list(range(50000 , 0 , -1 ))\n",
    "selectionSort(l)"
   ]
  },
  {
   "cell_type": "code",
   "execution_count": 12,
   "metadata": {},
   "outputs": [],
   "source": [
    "#this is just to validate our claim that in python if we expect to dosomething in one second then we make sure that the \n",
    "#no of steps is below about 10^7..."
   ]
  }
 ],
 "metadata": {
  "kernelspec": {
   "display_name": "Python 3",
   "language": "python",
   "name": "python3"
  },
  "language_info": {
   "codemirror_mode": {
    "name": "ipython",
    "version": 3
   },
   "file_extension": ".py",
   "mimetype": "text/x-python",
   "name": "python",
   "nbconvert_exporter": "python",
   "pygments_lexer": "ipython3",
   "version": "3.11.1"
  },
  "orig_nbformat": 4
 },
 "nbformat": 4,
 "nbformat_minor": 2
}
