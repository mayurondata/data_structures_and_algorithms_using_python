{
 "cells": [
  {
   "attachments": {},
   "cell_type": "markdown",
   "metadata": {},
   "source": [
    "# RECURSION"
   ]
  },
  {
   "attachments": {},
   "cell_type": "markdown",
   "metadata": {},
   "source": [
    "# what is induction  ? "
   ]
  },
  {
   "attachments": {},
   "cell_type": "markdown",
   "metadata": {},
   "source": [
    "In mathematics, induction is a powerful proof technique used to establish a property or statement for an infinite set of objects or numbers. It is based on the principle of mathematical induction, which consists of two steps: the base step and the inductive step.\n",
    "\n",
    "1. Base Step: The base step involves proving that the statement holds true for the first or smallest value in the set. This is typically the starting point of the induction. It demonstrates that the property is true for a specific initial case or element.\n",
    "\n",
    "2. Inductive Step: The inductive step is where the main argument lies. It involves proving that if the statement holds true for a particular value (often called \"n\"), then it also holds true for the next value (usually \"n+1\") in the set. This step is crucial as it establishes a connection between the truth of the statement for one value and its truth for the next value.\n",
    "\n",
    "By combining the base step and the inductive step, the principle of mathematical induction asserts that the property or statement holds true for all values in the infinite set. This is because the inductive step ensures that if the statement is true for one value, it must also be true for the next, and thus, it propagates indefinitely.\n",
    "\n",
    "Mathematical induction is frequently used to prove statements about natural numbers, such as proving formulas, inequalities, divisibility properties, or theorems involving sequences or series. It provides a rigorous and systematic way to establish results for infinitely many cases based on a solid foundation."
   ]
  },
  {
   "attachments": {},
   "cell_type": "markdown",
   "metadata": {},
   "source": [
    "# Some ChatGPT responsees"
   ]
  },
  {
   "attachments": {},
   "cell_type": "markdown",
   "metadata": {},
   "source": [
    "Yes, that is correct. Inductive definitions naturally give rise to recursive programs. When an object or concept is defined inductively, it means that the definition is based on smaller instances or cases of the same object or concept. This recursive structure inherent in the inductive definition lends itself to the implementation of recursive algorithms or programs.\n",
    "\n",
    "By breaking down a problem or concept into smaller subproblems or cases, a recursive program can solve each subproblem by recursively applying the same algorithm to the smaller instances. This process continues until reaching a base case, which represents the simplest or most elementary form of the problem that can be directly solved without further recursion.\n",
    "\n",
    "The recursive nature of the program corresponds to the recursive structure of the inductive definition, where each step in the program's execution corresponds to a step in the inductive definition. The recursive program mirrors the inductive definition, effectively implementing the rules and logic defined in the inductive definition.\n",
    "\n",
    "Recursive programs are particularly useful for solving problems that exhibit a recursive structure, such as traversing tree structures, computing factorials or Fibonacci numbers, searching or sorting algorithms, and many other scenarios. They provide an elegant and concise way to express and solve problems based on the underlying inductive structure of the concepts involved."
   ]
  },
  {
   "attachments": {},
   "cell_type": "markdown",
   "metadata": {},
   "source": [
    "## inductive definations naturally give rise to recursive computations "
   ]
  },
  {
   "cell_type": "code",
   "execution_count": 6,
   "metadata": {},
   "outputs": [
    {
     "data": {
      "text/plain": [
       "6"
      ]
     },
     "execution_count": 6,
     "metadata": {},
     "output_type": "execute_result"
    }
   ],
   "source": [
    "def factorial(n): \n",
    "    if n == 0  : \n",
    "        return 1 \n",
    "    else : \n",
    "        return (n * factorial(n -1 ))\n",
    "factorial(3)"
   ]
  },
  {
   "cell_type": "code",
   "execution_count": 9,
   "metadata": {},
   "outputs": [
    {
     "data": {
      "text/plain": [
       "25"
      ]
     },
     "execution_count": 9,
     "metadata": {},
     "output_type": "execute_result"
    }
   ],
   "source": [
    "def multiply(m , n):\n",
    "    if n == 1 : \n",
    "        return m \n",
    "    else : \n",
    "        return m + multiply(m , n-1)\n",
    "multiply(5, 5)"
   ]
  },
  {
   "attachments": {},
   "cell_type": "markdown",
   "metadata": {},
   "source": [
    "# Inductive definations for lists "
   ]
  },
  {
   "cell_type": "code",
   "execution_count": 14,
   "metadata": {},
   "outputs": [
    {
     "data": {
      "text/plain": [
       "4"
      ]
     },
     "execution_count": 14,
     "metadata": {},
     "output_type": "execute_result"
    }
   ],
   "source": [
    "# finding the length of the list \n",
    "def length(seq): \n",
    "    if len(seq) ==  1: \n",
    "        return 1\n",
    "    else : \n",
    "        return (1 + length(seq[1: ]))\n",
    "length([1 ,2, 3, 5])"
   ]
  },
  {
   "cell_type": "code",
   "execution_count": 16,
   "metadata": {},
   "outputs": [
    {
     "data": {
      "text/plain": [
       "36"
      ]
     },
     "execution_count": 16,
     "metadata": {},
     "output_type": "execute_result"
    }
   ],
   "source": [
    "# finding the sum of values in a list \n",
    "def sum(seq): \n",
    "    if len(seq) == 0  : \n",
    "        return 0\n",
    "    else : \n",
    "        return(seq[0] + sum(seq[1 : ]))\n",
    "sum([1 ,2 ,3, 3, 10 , 9 ,8 ])"
   ]
  },
  {
   "attachments": {},
   "cell_type": "markdown",
   "metadata": {},
   "source": [
    "# finding the max element in a list recursively \n",
    "```python\n",
    "def find_max_recursive(seq): \n",
    "    if len(seq) == 1 : \n",
    "        return seq[0]\n",
    "    else: \n",
    "        return max(seq[0] ,find_max_recursive(seq[1 : ]))\n",
    "seq = [1 ,2 ,3 ,4 ]\n",
    "find_max_recursive(seq)"
   ]
  },
  {
   "cell_type": "code",
   "execution_count": 37,
   "metadata": {},
   "outputs": [],
   "source": [
    "# recursive InsertionSort "
   ]
  },
  {
   "cell_type": "code",
   "execution_count": 10,
   "metadata": {},
   "outputs": [],
   "source": [
    "def InsertionSort(seq): \n",
    "    isort(seq , len(seq))\n",
    "def isort(seq, k): # sort slice seq[0: k]\n",
    "    if k > 1 : \n",
    "        isort(seq, k -1 )\n",
    "        insert(seq , k-1)\n",
    "def insert(seq, k):\n",
    "    pos = k \n",
    "    while pos > 0 and seq[pos] < seq[pos-1]: \n",
    "        (seq[pos] , seq[pos -1]) = (seq[pos - 1 ] , seq[pos])\n",
    "        pos  = pos  - 1 "
   ]
  },
  {
   "attachments": {},
   "cell_type": "markdown",
   "metadata": {},
   "source": [
    "Certainly! Let's go through the code step by step to understand its functionality.\n",
    "\n",
    "The code you provided implements the Insertion Sort algorithm using a recursive approach. Here's a breakdown of how the code works:\n",
    "\n",
    "1. The `InsertionSort` function is the entry point for the sorting process. It takes an input sequence (`seq`) and calls the `isort` function with the sequence\n",
    " and its length (`len(seq)`).\n",
    "\n",
    "2. The `isort` function is the recursive sorting function. It takes a sequence (`seq`) and a parameter `k` that represents the length of the slice to be sorted (`seq[0:k]`).\n",
    "\n",
    "3. Inside the `isort` function, the first condition checks if `k` is greater than 1. If it is, it means there are elements in the slice that need sorting. If `k` is not greater\n",
    " than 1, the function simply returns without performing any further operations.\n",
    "\n",
    "4. If `k` is greater than 1, the `isort` function calls itself recursively with `k-1` as the new parameter. This recursive call works its way down to the base case, which occurs when `k`\n",
    "  becomes 1.\n",
    "\n",
    "5. Once the base case is reached (i.e., when `k` is 1), the recursive calls start returning, moving back up the call stack. At each return, the `insert` function is invoked to insert \n",
    "   the element at position `k-1` into its correct sorted position within the slice `seq[0:k]`.\n",
    "\n",
    "6. The `insert` function performs the actual insertion of the element at position `k-1`. It starts by setting the variable `pos` to `k`, representing the current position to be inserted.\n",
    "\n",
    "7. The `while` loop checks two conditions: `pos > 0` (to ensure we haven't reached the beginning of the slice) and `seq[pos] < seq[pos-1]` (to determine if the current element needs to be\n",
    "   moved to the left).\n",
    "\n",
    "8. If both conditions are true, the elements at positions `pos` and `pos-1` are swapped using tuple packing and unpacking: `(seq[pos], seq[pos-1]) = (seq[pos-1], seq[pos])`. This swap\n",
    "   places the current element in its correct sorted position within the slice.\n",
    "\n",
    "9. After the swap, the `pos` variable is decremented (`pos = pos - 1`) to move to the next position in the slice.\n",
    "\n",
    "10. Steps 7-9 are repeated until either `pos` becomes 0 (reaching the beginning of the slice) or the current element is not smaller\n",
    " than the element to its left, indicating it's already in its correct sorted position.\n",
    "\n",
    "11. Once the `insert` function completes, the control returns to the previous level of recursion, and the same process is repeated for the next element in the slice\n",
    " until the original call to `isort` returns in the `InsertionSort` function.\n",
    "\n",
    "In summary, the code uses recursion to break down the sorting process into smaller slices until a base case is reached, and then uses the `insert` function to insert each element \n",
    "into its correct sorted position within the slice. The recursive calls ensure that the elements are sorted from left to right, gradually expanding the sorted portion of the sequence."
   ]
  },
  {
   "attachments": {},
   "cell_type": "markdown",
   "metadata": {},
   "source": [
    "# CODE TRAVERSAL "
   ]
  },
  {
   "attachments": {},
   "cell_type": "markdown",
   "metadata": {},
   "source": [
    "Certainly! Let's walk through the code step by step with a specific input sequence to see how the sorting process unfolds. Let's assume the input sequence is `[5, 3, 8, 2, 1]`.\n",
    "\n",
    "1. Initially, the `InsertionSort` function is called with the input sequence `[5, 3, 8, 2, 1]`.\n",
    "\n",
    "2. The `isort` function is called with the sequence `[5, 3, 8, 2, 1]` and `k = 5` (the length of the sequence).\n",
    "\n",
    "3. Since `k` is greater than 1, the `isort` function calls itself recursively with `k-1` as the new parameter. So, the recursive call is `isort([5, 3, 8, 2, 1], 4)`.\n",
    "\n",
    "4. The recursive call continues, and the next call is `isort([5, 3, 8, 2, 1], 3)`.\n",
    "\n",
    "5. The recursive call continues, and the next call is `isort([5, 3, 8, 2, 1], 2)`.\n",
    "\n",
    "6. The recursive call continues, and the next call is `isort([5, 3, 8, 2, 1], 1)`.\n",
    "\n",
    "7. Now, `k` is 1, which is the base case. The recursion starts to unwind.\n",
    "\n",
    "8. **The `insert` function is called with the sequence `[5, 3, 8, 2, 1]` and `k = 1`.**\n",
    "\n",
    "9. Inside the `insert` function, `pos` is set to 1.\n",
    "\n",
    "10. The `while` loop condition is checked: `pos > 0` and `seq[pos] < seq[pos-1]`. Since both conditions are true (`1 > 0` and `3 < 5`), the elements at positions `pos` and `pos-1` are swapped. The sequence becomes `[3, 5, 8, 2, 1]`.\n",
    "\n",
    "11. The `pos` variable is decremented: `pos = pos - 1`, so `pos` is now 0.\n",
    "\n",
    "12. The `while` loop condition is checked again: `pos > 0` and `seq[pos] < seq[pos-1]`. Since `pos` is now 0, the loop exits.\n",
    "\n",
    "13. The `insert` function completes, and the control returns to the previous level of recursion.\n",
    "\n",
    "14. Now, the `isort` function resumes with `k = 2`. Since we're returning from the recursive call, the sequence is now `[3, 5, 8, 2, 1]`.\n",
    "\n",
    "15. The `insert` function is called with the sequence `[3, 5, 8, 2, 1]` and `k = 2`.\n",
    "\n",
    "16. Inside the `insert` function, `pos` is set to 2.\n",
    "\n",
    "17. The `while` loop condition is checked: `pos > 0` and `seq[pos] < seq[pos-1]`. Since `2 > 0` and `8 > 5`, the loop exits.\n",
    "\n",
    "18. The `insert` function completes, and the control returns to the previous level of recursion.\n",
    "\n",
    "19. Now, the `isort` function resumes with `k = 3`. Since we're returning from the recursive call, the sequence is still `[3, 5, 8, 2, 1]`.\n",
    "\n",
    "20. The `insert` function is called with the sequence `[3, 5,\n",
    "\n",
    " 8, 2, 1]` and `k = 3`.\n",
    "\n",
    "21. Inside the `insert` function, `pos` is set to 3.\n",
    "\n",
    "22. The `while` loop condition is checked: `pos > 0` and `seq[pos] < seq[pos-1]`. Since `3 > 0` and `2 < 8`, the elements at positions `pos` and `pos-1` are swapped. The sequence becomes `[3, 5, 2, 8, 1]`.\n",
    "\n",
    "23. The `pos` variable is decremented: `pos = pos - 1`, so `pos` is now 2.\n",
    "\n",
    "24. The `while` loop condition is checked again: `pos > 0` and `seq[pos] < seq[pos-1]`. Since `2 > 0` and `2 < 5`, the elements at positions `pos` and `pos-1` are swapped. The sequence becomes `[3, 2, 5, 8, 1]`.\n",
    "\n",
    "25. The `pos` variable is decremented: `pos = pos - 1`, so `pos` is now 1.\n",
    "\n",
    "26. The `while` loop condition is checked again: `pos > 0` and `seq[pos] < seq[pos-1]`. Since `1 > 0` and `2 > 3`, the loop exits.\n",
    "\n",
    "27. The `insert` function completes, and the control returns to the previous level of recursion.\n",
    "\n",
    "28. Now, the `isort` function resumes with `k = 4`. Since we're returning from the recursive call, the sequence is still `[3, 2, 5, 8, 1]`.\n",
    "\n",
    "29. The `insert` function is called with the sequence `[3, 2, 5, 8, 1]` and `k = 4`.\n",
    "\n",
    "30. Inside the `insert` function, `pos` is set to 4.\n",
    "\n",
    "31. The `while` loop condition is checked: `pos > 0` and `seq[pos] < seq[pos-1]`. Since `4 > 0` and `1 < 8`, the elements at positions `pos` and `pos-1` are swapped. The sequence becomes `[3, 2, 5, 1, 8]`.\n",
    "\n",
    "32. The `pos` variable is decremented: `pos = pos - 1`, so `pos` is now 3.\n",
    "\n",
    "33. The `while` loop condition is checked again: `pos > 0` and `seq[pos] < seq[pos-1]`. Since `3 > 0` and `1 < 5`, the elements at positions `pos` and `pos-1` are swapped. The sequence becomes `[3, 2, 1, 5, 8]`.\n",
    "\n",
    "34. The `pos` variable is decremented: `pos = pos - 1`, so `pos` is now 2.\n",
    "\n",
    "35. The `while` loop condition is checked again: `pos > 0` and `seq[pos] < seq[pos-1]`. Since `2 > 0` and `1 < 3`, the elements at positions `pos` and `pos-1` are swapped. The sequence becomes `[3, 1, 2, 5, 8]`.\n",
    "\n",
    "36. The `pos` variable is decremented: `pos = pos - 1`, so `pos` is now 1.\n",
    "\n",
    "37. The `while` loop condition is checked again: `pos > 0` and `seq[pos] < seq[pos-1]`. Since `\n",
    "\n",
    "1 > 0` and `2 > 3`, the loop exits.\n",
    "\n",
    "38. The `insert` function completes, and the control returns to the previous level of recursion.\n",
    "\n",
    "39. Finally, the `isort` function completes, and the sorted sequence `[1, 2, 3, 5, 8]` is returned.\n",
    "\n",
    "Thus, the input sequence `[5, 3, 8, 2, 1]` is sorted in ascending order using the Insertion Sort algorithm implemented with recursive calls."
   ]
  },
  {
   "attachments": {},
   "cell_type": "markdown",
   "metadata": {},
   "source": [
    "# stack frames "
   ]
  },
  {
   "attachments": {},
   "cell_type": "markdown",
   "metadata": {},
   "source": [
    "Apologies for the confusion caused by my previous responses. Let's continue with the corrected version of the stack frames and explain how the `insert` steps will take place for the input `[6, 3, 1]`:\n",
    "\n",
    "1. Initial call: `InsertionSort([6, 3, 1])`\n",
    "\n",
    "   Stack:\n",
    "   - `InsertionSort([6, 3, 1])`\n",
    "\n",
    "2. `isort([6, 3, 1], 3)`\n",
    "\n",
    "   Stack:\n",
    "   - `InsertionSort([6, 3, 1])`\n",
    "   - `isort([6, 3, 1], 3)`\n",
    "\n",
    "3. Recursive call: `isort([6, 3, 1], 2)`\n",
    "\n",
    "   Stack:\n",
    "   - `InsertionSort([6, 3, 1])`\n",
    "   - `isort([6, 3, 1], 3)`\n",
    "   - `isort([6, 3, 1], 2)`\n",
    "\n",
    "4. Recursive call: `isort([6, 3, 1], 1)`\n",
    "\n",
    "   Stack:\n",
    "   - `InsertionSort([6, 3, 1])`\n",
    "   - `isort([6, 3, 1], 3)`\n",
    "   - `isort([6, 3, 1], 2)`\n",
    "   - `isort([6, 3, 1], 1)`\n",
    "\n",
    "   At this point, the base case is reached because `k = 1`.\n",
    "\n",
    "5. Base case: `k = 1`\n",
    "\n",
    "   Stack:\n",
    "   - `InsertionSort([6, 3, 1])`\n",
    "   - `isort([6, 3, 1], 3)`\n",
    "   - `isort([6, 3, 1], 2)`\n",
    "   - `isort([6, 3, 1], 1)`\n",
    "\n",
    "   The base case is reached, and no further recursion occurs.\n",
    "\n",
    "6. After the base case, the `insert` step is executed.\n",
    "\n",
    "   Stack:\n",
    "   - `InsertionSort([6, 3, 1])`\n",
    "   - `isort([6, 3, 1], 3)`\n",
    "   - `isort([6, 3, 1], 2)`\n",
    "   - `isort([6, 3, 1], 1)`\n",
    "\n",
    "   The `insert` function is called with `seq = [6, 3, 1]` and `k = 1`.\n",
    "   - `pos = 1`\n",
    "   - Loop: `pos > 0` and `seq[pos] (3) < seq[pos-1] (6)`\n",
    "     - The loop condition is true, so a swap occurs: `[6, 3, 1]` becomes `[3, 6, 1]`\n",
    "     - `pos` is decremented: `pos = 0`\n",
    "   - Loop: `pos > 0` and `seq[pos] (3) < seq[pos-1] (3)`\n",
    "     - The loop condition is false, so the loop ends.\n",
    "   - The `insert` step is completed, and the sequence becomes `[3, 6, 1]`.\n",
    "\n",
    "7. As the recursion unwinds, each recursive call to `isort` continues executing the `insert` step.\n",
    "\n",
    "   Stack:\n",
    "   - `InsertionSort([6, 3, 1])`\n",
    "   - `isort([6, 3, 1], 3)`\n",
    "   - `isort([6, 3, 1], 2)`\n",
    "\n",
    "   The `isort` call\n",
    "\n",
    " with `seq = [6, 3, 1]` and `k = 2` continues the `insert` step:\n",
    "   - `pos = 2`\n",
    "   - Loop: `pos > 0` and `seq[pos] (1) < seq[pos-1] (6)`\n",
    "     - The loop condition is true, so a swap occurs: `[3, 6, 1]` becomes `[3, 1, 6]`\n",
    "     - `pos` is decremented: `pos = 1`\n",
    "   - Loop: `pos > 0` and `seq[pos] (1) < seq[pos-1] (3)`\n",
    "     - The loop condition is true, so another swap occurs: `[3, 1, 6]` becomes `[1, 3, 6]`\n",
    "     - `pos` is decremented: `pos = 0`\n",
    "   - Loop: `pos > 0` and `seq[pos] (1) < seq[pos-1] (1)`\n",
    "     - The loop condition is false, so the loop ends.\n",
    "   - The `insert` step is completed, and the sequence becomes `[1, 3, 6]`.\n",
    "\n",
    "8. Finally, the recursion unwinds further:\n",
    "\n",
    "   Stack:\n",
    "   - `InsertionSort([6, 3, 1])`\n",
    "   - `isort([6, 3, 1], 3)`\n",
    "\n",
    "   The `isort` call with `seq = [6, 3, 1]` and `k = 3` completes the `insert` step:\n",
    "   - Since the sequence is already sorted, no swaps are necessary.\n",
    "   - The `insert` step is completed, and the sequence remains `[1, 3, 6]`.\n",
    "\n",
    "As the recursion unwinds completely, the sorting is completed, and the final sorted sequence is `[1, 3, 6]`."
   ]
  },
  {
   "attachments": {},
   "cell_type": "markdown",
   "metadata": {},
   "source": [
    "####  THE following statement  is very important for understanding the structure...\n",
    " Each stack frame represents a specific invocation of the `isort` function with its own set of variables and memory allocated. The stack frames are\n",
    " created as new recursive calls are made, and they are popped off the stack as the recursive calls return and the sorting process progresses."
   ]
  },
  {
   "cell_type": "code",
   "execution_count": 11,
   "metadata": {},
   "outputs": [],
   "source": [
    "# running in PYthon \n",
    "l = list(range(500 , 0, -1))\n",
    "InsertionSort(l)"
   ]
  },
  {
   "cell_type": "code",
   "execution_count": 16,
   "metadata": {},
   "outputs": [
    {
     "ename": "RecursionError",
     "evalue": "maximum recursion depth exceeded",
     "output_type": "error",
     "traceback": [
      "\u001b[1;31m---------------------------------------------------------------------------\u001b[0m",
      "\u001b[1;31mRecursionError\u001b[0m                            Traceback (most recent call last)",
      "Cell \u001b[1;32mIn[16], line 3\u001b[0m\n\u001b[0;32m      1\u001b[0m \u001b[39m# suppose we take range 5000\u001b[39;00m\n\u001b[0;32m      2\u001b[0m l \u001b[39m=\u001b[39m \u001b[39mlist\u001b[39m(\u001b[39mrange\u001b[39m(\u001b[39m5000\u001b[39m , \u001b[39m0\u001b[39m ,\u001b[39m-\u001b[39m\u001b[39m1\u001b[39m))\n\u001b[1;32m----> 3\u001b[0m InsertionSort(l)\n",
      "Cell \u001b[1;32mIn[10], line 2\u001b[0m, in \u001b[0;36mInsertionSort\u001b[1;34m(seq)\u001b[0m\n\u001b[0;32m      1\u001b[0m \u001b[39mdef\u001b[39;00m \u001b[39mInsertionSort\u001b[39m(seq): \n\u001b[1;32m----> 2\u001b[0m     isort(seq , \u001b[39mlen\u001b[39;49m(seq))\n",
      "Cell \u001b[1;32mIn[10], line 5\u001b[0m, in \u001b[0;36misort\u001b[1;34m(seq, k)\u001b[0m\n\u001b[0;32m      3\u001b[0m \u001b[39mdef\u001b[39;00m \u001b[39misort\u001b[39m(seq, k): \u001b[39m# sort slice seq[0: k]\u001b[39;00m\n\u001b[0;32m      4\u001b[0m     \u001b[39mif\u001b[39;00m k \u001b[39m>\u001b[39m \u001b[39m1\u001b[39m : \n\u001b[1;32m----> 5\u001b[0m         isort(seq, k \u001b[39m-\u001b[39;49m\u001b[39m1\u001b[39;49m )\n\u001b[0;32m      6\u001b[0m         insert(seq , k\u001b[39m-\u001b[39m\u001b[39m1\u001b[39m)\n",
      "Cell \u001b[1;32mIn[10], line 5\u001b[0m, in \u001b[0;36misort\u001b[1;34m(seq, k)\u001b[0m\n\u001b[0;32m      3\u001b[0m \u001b[39mdef\u001b[39;00m \u001b[39misort\u001b[39m(seq, k): \u001b[39m# sort slice seq[0: k]\u001b[39;00m\n\u001b[0;32m      4\u001b[0m     \u001b[39mif\u001b[39;00m k \u001b[39m>\u001b[39m \u001b[39m1\u001b[39m : \n\u001b[1;32m----> 5\u001b[0m         isort(seq, k \u001b[39m-\u001b[39;49m\u001b[39m1\u001b[39;49m )\n\u001b[0;32m      6\u001b[0m         insert(seq , k\u001b[39m-\u001b[39m\u001b[39m1\u001b[39m)\n",
      "    \u001b[1;31m[... skipping similar frames: isort at line 5 (2970 times)]\u001b[0m\n",
      "Cell \u001b[1;32mIn[10], line 5\u001b[0m, in \u001b[0;36misort\u001b[1;34m(seq, k)\u001b[0m\n\u001b[0;32m      3\u001b[0m \u001b[39mdef\u001b[39;00m \u001b[39misort\u001b[39m(seq, k): \u001b[39m# sort slice seq[0: k]\u001b[39;00m\n\u001b[0;32m      4\u001b[0m     \u001b[39mif\u001b[39;00m k \u001b[39m>\u001b[39m \u001b[39m1\u001b[39m : \n\u001b[1;32m----> 5\u001b[0m         isort(seq, k \u001b[39m-\u001b[39;49m\u001b[39m1\u001b[39;49m )\n\u001b[0;32m      6\u001b[0m         insert(seq , k\u001b[39m-\u001b[39m\u001b[39m1\u001b[39m)\n",
      "\u001b[1;31mRecursionError\u001b[0m: maximum recursion depth exceeded"
     ]
    }
   ],
   "source": [
    "# suppose we take range 5000\n",
    "l = list(range(5000 , 0 ,-1))\n",
    "InsertionSort(l)\n",
    "# then something surprising happens saying it could not sort this because it  reached something called as maximum recursion depth "
   ]
  },
  {
   "cell_type": "code",
   "execution_count": 1,
   "metadata": {},
   "outputs": [],
   "source": [
    "# so what happens is when me make a recursive call the current function is suspended...we try to sort something of length\n",
    "# 5000 it will try  to insert the \n",
    "# 5000th element into the result of sorting the first 4999 we suspend the first call and try to sort 4999  \n",
    "#  This in turn will try to insert  the 4999th\n",
    "# element into sorting the first 4998. So, it will suspend that and try to sort the first 4998. \n",
    "# At each time we make a recursive call, the current function is suspended and a new\n",
    "# function is started. So, this is called the **depth of recursion**.How many functions have we\n",
    "# suspended while we are doing this process?"
   ]
  },
  {
   "cell_type": "code",
   "execution_count": 17,
   "metadata": {},
   "outputs": [],
   "source": [
    "#unlike some other languages python imposes a limit on this\n",
    "#and the limit is clearly less than 5000....so how do we get \n",
    "#around this? "
   ]
  },
  {
   "cell_type": "code",
   "execution_count": 47,
   "metadata": {},
   "outputs": [
    {
     "ename": "RecursionError",
     "evalue": "maximum recursion depth exceeded",
     "output_type": "error",
     "traceback": [
      "\u001b[1;31m---------------------------------------------------------------------------\u001b[0m",
      "\u001b[1;31mRecursionError\u001b[0m                            Traceback (most recent call last)",
      "Cell \u001b[1;32mIn[47], line 3\u001b[0m\n\u001b[0;32m      1\u001b[0m \u001b[39m# so lets try to see what the limit is ?....Employ binary search :)\u001b[39;00m\n\u001b[0;32m      2\u001b[0m l \u001b[39m=\u001b[39m \u001b[39mlist\u001b[39m(\u001b[39mrange\u001b[39m(\u001b[39m2974\u001b[39m , \u001b[39m0\u001b[39m , \u001b[39m-\u001b[39m\u001b[39m1\u001b[39m ))\n\u001b[1;32m----> 3\u001b[0m InsertionSort(l)\n\u001b[0;32m      4\u001b[0m \u001b[39m# we can see that the limit is 2974\u001b[39;00m\n",
      "Cell \u001b[1;32mIn[10], line 2\u001b[0m, in \u001b[0;36mInsertionSort\u001b[1;34m(seq)\u001b[0m\n\u001b[0;32m      1\u001b[0m \u001b[39mdef\u001b[39;00m \u001b[39mInsertionSort\u001b[39m(seq): \n\u001b[1;32m----> 2\u001b[0m     isort(seq , \u001b[39mlen\u001b[39;49m(seq))\n",
      "Cell \u001b[1;32mIn[10], line 5\u001b[0m, in \u001b[0;36misort\u001b[1;34m(seq, k)\u001b[0m\n\u001b[0;32m      3\u001b[0m \u001b[39mdef\u001b[39;00m \u001b[39misort\u001b[39m(seq, k): \u001b[39m# sort slice seq[0: k]\u001b[39;00m\n\u001b[0;32m      4\u001b[0m     \u001b[39mif\u001b[39;00m k \u001b[39m>\u001b[39m \u001b[39m1\u001b[39m : \n\u001b[1;32m----> 5\u001b[0m         isort(seq, k \u001b[39m-\u001b[39;49m\u001b[39m1\u001b[39;49m )\n\u001b[0;32m      6\u001b[0m         insert(seq , k\u001b[39m-\u001b[39m\u001b[39m1\u001b[39m)\n",
      "Cell \u001b[1;32mIn[10], line 5\u001b[0m, in \u001b[0;36misort\u001b[1;34m(seq, k)\u001b[0m\n\u001b[0;32m      3\u001b[0m \u001b[39mdef\u001b[39;00m \u001b[39misort\u001b[39m(seq, k): \u001b[39m# sort slice seq[0: k]\u001b[39;00m\n\u001b[0;32m      4\u001b[0m     \u001b[39mif\u001b[39;00m k \u001b[39m>\u001b[39m \u001b[39m1\u001b[39m : \n\u001b[1;32m----> 5\u001b[0m         isort(seq, k \u001b[39m-\u001b[39;49m\u001b[39m1\u001b[39;49m )\n\u001b[0;32m      6\u001b[0m         insert(seq , k\u001b[39m-\u001b[39m\u001b[39m1\u001b[39m)\n",
      "    \u001b[1;31m[... skipping similar frames: isort at line 5 (2970 times)]\u001b[0m\n",
      "Cell \u001b[1;32mIn[10], line 5\u001b[0m, in \u001b[0;36misort\u001b[1;34m(seq, k)\u001b[0m\n\u001b[0;32m      3\u001b[0m \u001b[39mdef\u001b[39;00m \u001b[39misort\u001b[39m(seq, k): \u001b[39m# sort slice seq[0: k]\u001b[39;00m\n\u001b[0;32m      4\u001b[0m     \u001b[39mif\u001b[39;00m k \u001b[39m>\u001b[39m \u001b[39m1\u001b[39m : \n\u001b[1;32m----> 5\u001b[0m         isort(seq, k \u001b[39m-\u001b[39;49m\u001b[39m1\u001b[39;49m )\n\u001b[0;32m      6\u001b[0m         insert(seq , k\u001b[39m-\u001b[39m\u001b[39m1\u001b[39m)\n",
      "\u001b[1;31mRecursionError\u001b[0m: maximum recursion depth exceeded"
     ]
    }
   ],
   "source": [
    "# so lets try to see what the limit is ?....Employ binary search :)\n",
    "l = list(range(2974 , 0 , -1 ))\n",
    "InsertionSort(l)\n",
    "# we can see that the limit is 2974"
   ]
  },
  {
   "cell_type": "code",
   "execution_count": 51,
   "metadata": {},
   "outputs": [],
   "source": [
    "# now fortunately there is a way to get around this we can set the recursion limit the way we do it is the following : \n",
    "import sys\n",
    "sys.setrecursionlimit(5000)"
   ]
  },
  {
   "cell_type": "code",
   "execution_count": 56,
   "metadata": {},
   "outputs": [],
   "source": [
    "l = list(range(4000 , 0 , -1))\n",
    "InsertionSort(l)"
   ]
  },
  {
   "attachments": {},
   "cell_type": "markdown",
   "metadata": {},
   "source": [
    "Remember that in this we are basically doing recursion exactly the number of times as\n",
    "there are elements because we keep  inserting, inserting, inserting  and each insertion\n",
    "requires us to recursively sort the things to its left. That is why we get the stack of nested\n",
    "recursions, but the thing to remember is that by default, python has an upper bound on\n",
    "the number of nested recursions which is less than 1000, if you want to change it you can\n",
    "by setting this recursion limit explicitly, but python does not allow you to set it to an\n",
    "unbounded value. You must give it an upper bound. So, you cannot say let recursion run\n",
    "as long as it needs to. You have to have an estimate on how much the recursion will\n",
    "actually take on the inputs you are giving, so that you can set this bound explicitly."
   ]
  }
 ],
 "metadata": {
  "kernelspec": {
   "display_name": "Python 3",
   "language": "python",
   "name": "python3"
  },
  "language_info": {
   "codemirror_mode": {
    "name": "ipython",
    "version": 3
   },
   "file_extension": ".py",
   "mimetype": "text/x-python",
   "name": "python",
   "nbconvert_exporter": "python",
   "pygments_lexer": "ipython3",
   "version": "3.11.1"
  },
  "orig_nbformat": 4
 },
 "nbformat": 4,
 "nbformat_minor": 2
}
