{
 "cells": [
  {
   "cell_type": "markdown",
   "id": "3ef54200",
   "metadata": {},
   "source": [
    " ## LISTS"
   ]
  },
  {
   "cell_type": "code",
   "execution_count": 16,
   "id": "ef2fd259",
   "metadata": {},
   "outputs": [],
   "source": [
    "# a list is also a sequence of values but a list need not have uniform type"
   ]
  },
  {
   "cell_type": "code",
   "execution_count": 17,
   "id": "eba274d1",
   "metadata": {},
   "outputs": [],
   "source": [
    "# a list is a sequence in the same way a string is and so it has positions 0 to n-1 where n is the \n",
    "# length of the list "
   ]
  },
  {
   "cell_type": "code",
   "execution_count": 66,
   "id": "118733ca",
   "metadata": {},
   "outputs": [
    {
     "data": {
      "text/plain": [
       "3"
      ]
     },
     "execution_count": 66,
     "metadata": {},
     "output_type": "execute_result"
    }
   ],
   "source": [
    "factors = [ 1,2 ,5, 10]\n",
    "names  = [\"Anand\" , \"Charles\" ,\"Muqsit\"]\n",
    "# types need not be uniform\n",
    "mixed  = [3, True , \"Yellow\"]\n",
    "# extract values by position , slice , like str\n",
    "factors[3]\n",
    "mixed[0:2]\n",
    "len(names)"
   ]
  },
  {
   "cell_type": "markdown",
   "id": "0b03863e",
   "metadata": {},
   "source": [
    "imp "
   ]
  },
  {
   "cell_type": "markdown",
   "id": "f9e8e29a",
   "metadata": {},
   "source": [
    "Lists and strings "
   ]
  },
  {
   "cell_type": "code",
   "execution_count": 31,
   "id": "75e61de9",
   "metadata": {},
   "outputs": [
    {
     "data": {
      "text/plain": [
       "False"
      ]
     },
     "execution_count": 31,
     "metadata": {},
     "output_type": "execute_result"
    }
   ],
   "source": [
    "# for str, both a single position and a slice return strings.\n",
    "h = 'hello'\n",
    "h[0] \n",
    "h[0:1]\n",
    "h[0] == h[0:1]\n",
    "# for lists , a single position returns a value , a slice returns a list \n",
    "factors = [1 ,2, 5 ,10]\n",
    "factors[0] # value\n",
    "factors[0:1] # list \n",
    "factors[0] == factors[:1]"
   ]
  },
  {
   "cell_type": "markdown",
   "id": "c7c1d518",
   "metadata": {},
   "source": [
    "Nested lists "
   ]
  },
  {
   "cell_type": "code",
   "execution_count": 3,
   "id": "3998b137",
   "metadata": {},
   "outputs": [
    {
     "data": {
      "text/plain": [
       "[37]"
      ]
     },
     "execution_count": 3,
     "metadata": {},
     "output_type": "execute_result"
    }
   ],
   "source": [
    "# lists can contain other lists(nestings)\n",
    "nested = [[2, [37]] , 4 , [\"hello\"]]\n",
    "nested[0]\n",
    "nested[1]\n",
    "nested[2][0][2:]\n",
    "nested[0][1:2] # returns [[37]]\n",
    "nested[0][1] # returns [37]"
   ]
  },
  {
   "cell_type": "markdown",
   "id": "d6271b0e",
   "metadata": {},
   "source": [
    "updating lists"
   ]
  },
  {
   "cell_type": "code",
   "execution_count": 6,
   "id": "e65855ba",
   "metadata": {},
   "outputs": [],
   "source": [
    "#unlike strings, lists can be updated in place"
   ]
  },
  {
   "cell_type": "code",
   "execution_count": 9,
   "id": "2395cae4",
   "metadata": {},
   "outputs": [
    {
     "data": {
      "text/plain": [
       "[[2, [19]], 7, ['hello']]"
      ]
     },
     "execution_count": 9,
     "metadata": {},
     "output_type": "execute_result"
    }
   ],
   "source": [
    "nested = [[2, [37]] , 4 , [\"hello\"]]\n",
    "nested[1] = 7\n",
    "nested[0][1][0] = 19\n",
    "nested \n",
    "# lists are mutable : mutation is to change \n",
    "# lists can be transformend in place."
   ]
  },
  {
   "cell_type": "markdown",
   "id": "d05c7399",
   "metadata": {},
   "source": [
    "Mutable vs immutable "
   ]
  },
  {
   "cell_type": "code",
   "execution_count": 11,
   "id": "acbf1e72",
   "metadata": {},
   "outputs": [
    {
     "data": {
      "text/plain": [
       "5"
      ]
     },
     "execution_count": 11,
     "metadata": {},
     "output_type": "execute_result"
    }
   ],
   "source": [
    "# What happens when we assign names?\n",
    "# name = value\n",
    "x = 5\n",
    "y = x\n",
    "# reassigning x to 7:\n",
    "x = 7\n",
    "# the question to ask is has the value of y changed? \n",
    "y # no "
   ]
  },
  {
   "cell_type": "code",
   "execution_count": 22,
   "id": "43370470",
   "metadata": {},
   "outputs": [],
   "source": [
    "#Does assignment copy the value or make both names point to the same value?\n",
    "#For immutable values , we can assume that assignment makes a FRESH COPY of  a value\n",
    "#so this is the reason y didnot change it's value.\n",
    "#updating one value does not affect the copy.\n",
    "    #values of type int , float , bool, str are immutable."
   ]
  },
  {
   "cell_type": "code",
   "execution_count": 84,
   "id": "bcb67d20",
   "metadata": {},
   "outputs": [
    {
     "data": {
      "text/plain": [
       "[1, 3, 4, 7]"
      ]
     },
     "execution_count": 84,
     "metadata": {},
     "output_type": "execute_result"
    }
   ],
   "source": [
    "#For mutable values assignment doesnot make a FRESH COPY.it rather makes both names point to exactly the \n",
    "#same value.Through either name if we happend to update the mutable value the other name is also \n",
    "#affected.\n",
    "list1 = [1 ,3, 5, 7]\n",
    "list2 = list1\n",
    "list1[2] = 4\n",
    "list2\n",
    "# list1 and list2 are the two names for the same list "
   ]
  },
  {
   "cell_type": "code",
   "execution_count": 14,
   "id": "65b9176b",
   "metadata": {},
   "outputs": [],
   "source": [
    "# there is a fundamental difference how assignment works for mutable and immutable types...."
   ]
  },
  {
   "cell_type": "markdown",
   "id": "60f4087a",
   "metadata": {},
   "source": [
    "Copying lists "
   ]
  },
  {
   "cell_type": "code",
   "execution_count": 21,
   "id": "3fd3afc3",
   "metadata": {},
   "outputs": [
    {
     "data": {
      "text/plain": [
       "[1, 3, 5, 7]"
      ]
     },
     "execution_count": 21,
     "metadata": {},
     "output_type": "execute_result"
    }
   ],
   "source": [
    "# how can we make a copy of a list?\n",
    "# A slice creates a new sub(list) from an old one\n",
    "# Omitting both end points gives a full slice.\n",
    "# l[:] == l[0:len(l)]\n",
    "# to make a copy of a list use a full slice\n",
    "list1 = [1 ,3, 5, 7]\n",
    "list2 = list1[:]\n",
    "# if the full slice is not used list1 and list2 will point to the same actual list \n",
    "# this gives a simple solution to copy the list..\n",
    "# now any update to list1 will not affect list2 \n",
    "# any update to list2 will not affect list1\n",
    "list1[2] = 4 \n",
    "list1\n",
    "list2"
   ]
  },
  {
   "cell_type": "markdown",
   "id": "2d81dcbf",
   "metadata": {},
   "source": [
    "Digression on equality"
   ]
  },
  {
   "cell_type": "code",
   "execution_count": 25,
   "id": "3f555da4",
   "metadata": {},
   "outputs": [],
   "source": [
    "list1 = [1 ,3, 5, 7]\n",
    "list2 = [1 ,3 ,5, 7]\n",
    "list3 = list2\n",
    "# all three lists are equal ,but there is a difference in the way they are equal\n",
    "# list1 and list2 are two lists with same value\n",
    "# list2 and list3 are two names for same list \n",
    "# there are two notions of equality"
   ]
  },
  {
   "cell_type": "markdown",
   "id": "7d8e04db",
   "metadata": {},
   "source": [
    "- x == y # checks if x and y have same value\n",
    "- x  is y # checks wheter list1 and list2 refrer to same object\n",
    "what we are asking is , whether x and y actually point to the same memory location "
   ]
  },
  {
   "cell_type": "code",
   "execution_count": 26,
   "id": "73c4b4a6",
   "metadata": {},
   "outputs": [
    {
     "data": {
      "text/plain": [
       "True"
      ]
     },
     "execution_count": 26,
     "metadata": {},
     "output_type": "execute_result"
    }
   ],
   "source": [
    "list1 == list2 \n",
    "list2 == list3"
   ]
  },
  {
   "cell_type": "code",
   "execution_count": 27,
   "id": "47970f47",
   "metadata": {},
   "outputs": [
    {
     "data": {
      "text/plain": [
       "True"
      ]
     },
     "execution_count": 27,
     "metadata": {},
     "output_type": "execute_result"
    }
   ],
   "source": [
    "list1 is list2\n",
    "list2 is list3"
   ]
  },
  {
   "cell_type": "markdown",
   "id": "568c05e1",
   "metadata": {},
   "source": [
    "Concatenation"
   ]
  },
  {
   "cell_type": "markdown",
   "id": "11117a9e",
   "metadata": {},
   "source": [
    "like strings , lists can be glued together using +"
   ]
  },
  {
   "cell_type": "code",
   "execution_count": 31,
   "id": "2f176eb6",
   "metadata": {},
   "outputs": [
    {
     "data": {
      "text/plain": [
       "[1, 3, 5, 7, 4, 5, 6, 8]"
      ]
     },
     "execution_count": 31,
     "metadata": {},
     "output_type": "execute_result"
    }
   ],
   "source": [
    "list1 = [1, 3, 5, 7]\n",
    "list2 = [4, 5, 6 ,8 ]\n",
    "list3 = list1  + list2\n",
    "list3"
   ]
  },
  {
   "cell_type": "code",
   "execution_count": 32,
   "id": "5c2e055e",
   "metadata": {},
   "outputs": [
    {
     "data": {
      "text/plain": [
       "False"
      ]
     },
     "execution_count": 32,
     "metadata": {},
     "output_type": "execute_result"
    }
   ],
   "source": [
    "# + always produces a new list \n",
    "list1 = [1 ,3, 5, 7]\n",
    "list2 = list1 \n",
    "list1 is list2\n",
    "list1 = list1 + [9]\n",
    "# list1 and list2 no longer point to the same object\n",
    "list1 is list2"
   ]
  }
 ],
 "metadata": {
  "kernelspec": {
   "display_name": "Python 3 (ipykernel)",
   "language": "python",
   "name": "python3"
  },
  "language_info": {
   "codemirror_mode": {
    "name": "ipython",
    "version": 3
   },
   "file_extension": ".py",
   "mimetype": "text/x-python",
   "name": "python",
   "nbconvert_exporter": "python",
   "pygments_lexer": "ipython3",
   "version": "3.9.12"
  }
 },
 "nbformat": 4,
 "nbformat_minor": 5
}
