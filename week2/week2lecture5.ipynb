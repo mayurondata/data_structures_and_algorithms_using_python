{
 "cells": [
  {
   "attachments": {},
   "cell_type": "markdown",
   "id": "e1a279bd",
   "metadata": {},
   "source": [
    "FUNCTIONS "
   ]
  },
  {
   "cell_type": "code",
   "execution_count": 14,
   "id": "5588a5ce",
   "metadata": {},
   "outputs": [],
   "source": [
    "# we had conditional execution and we had repeted execution"
   ]
  },
  {
   "cell_type": "code",
   "execution_count": 15,
   "id": "448d2ac5",
   "metadata": {},
   "outputs": [],
   "source": [
    "# the last ingredient in our typical Python program is a function."
   ]
  },
  {
   "cell_type": "code",
   "execution_count": 1,
   "id": "1b00cd4b",
   "metadata": {},
   "outputs": [],
   "source": [
    "#a function is a group of statements which performs a given task\n",
    "#they constitue a unit of computation which can be used repeatedly \n",
    "#from time to time."
   ]
  },
  {
   "attachments": {},
   "cell_type": "markdown",
   "id": "b7d5818e",
   "metadata": {},
   "source": [
    "we can logically seperate out units of work with the help of functions\n",
    "and very often these functions are called repeatedly with different arguements \n",
    "they constitue a unit of computation which can be used repeatedly from time to\n",
    "time."
   ]
  },
  {
   "cell_type": "code",
   "execution_count": 1,
   "id": "0b1fa88f",
   "metadata": {},
   "outputs": [],
   "source": [
    "# we define functions using def "
   ]
  },
  {
   "attachments": {},
   "cell_type": "markdown",
   "id": "55ac2278",
   "metadata": {},
   "source": [
    "Function definition\n",
    "```python\n",
    "\n",
    "def f(a ,b ,c ):\n",
    "    statement_1\n",
    "    statement_2\n",
    "    ..\n",
    "    return(v)\n",
    "    ..\n",
    "```\n",
    "* function name , arguements / parameters \n",
    "* Body is indented \n",
    "* return() statement exists and returns a value\n",
    "\n"
   ]
  },
  {
   "cell_type": "code",
   "execution_count": null,
   "id": "7c0e5241",
   "metadata": {},
   "outputs": [],
   "source": [
    "# Passing values to functions."
   ]
  },
  {
   "attachments": {},
   "cell_type": "markdown",
   "id": "d8efea8f",
   "metadata": {},
   "source": [
    "# Arguement value is substitued for name.\n",
    "```python\n",
    "def power(x , n):\n",
    "    ans = 1 \n",
    "    for i in range(0 , n):\n",
    "        ans = ans * x\n",
    "    return ans \n",
    "```\n",
    "power(3, 5)\n",
    "when we run this code it is as though we have this code inserted into our program at this point preceded by these assignments\n",
    "* x  = 3\n",
    "* n = 5 \n",
    "* ans = 1 \n",
    "* for i in range..\n",
    "since this is an assignemnt this behaves very much like an assignment in the \n",
    "regular case\n",
    "* same rules apply for mutable and immutable values\n",
    "    * immutable value will not be affected at calling point \n",
    "    * mutable values will be affected\n",
    "    "
   ]
  },
  {
   "cell_type": "code",
   "execution_count": 23,
   "id": "c06b66b2",
   "metadata": {},
   "outputs": [
    {
     "data": {
      "text/plain": [
       "False"
      ]
     },
     "execution_count": 23,
     "metadata": {},
     "output_type": "execute_result"
    }
   ],
   "source": [
    "# a code to illustrate this point \n",
    "def update(l,i,v):\n",
    "    if i >= 0 and i < len(l):\n",
    "        l[i] = v\n",
    "        return(True)\n",
    "    else:\n",
    "        v = v + 1\n",
    "        return(False)\n",
    "        \n",
    "ns = [3, 11, 12]\n",
    "z = 8\n",
    "update(ns , 2, z)\n",
    "update(ns , 4, z)"
   ]
  },
  {
   "attachments": {},
   "cell_type": "markdown",
   "id": "5f21eac2",
   "metadata": {},
   "source": [
    "# when we run this code update(ns , 2 ,z)\n",
    "* it is as though we have this code inserted into out program at this point preceded by these assignments\n",
    "* l = ns (mutable)\n",
    "* i = 2 \n",
    "* z = v (immutable)\n",
    "- although v has been incremented from 8 to 9 z remains 8"
   ]
  },
  {
   "cell_type": "code",
   "execution_count": null,
   "id": "570eda6c",
   "metadata": {},
   "outputs": [],
   "source": []
  }
 ],
 "metadata": {
  "kernelspec": {
   "display_name": "Python 3 (ipykernel)",
   "language": "python",
   "name": "python3"
  },
  "language_info": {
   "codemirror_mode": {
    "name": "ipython",
    "version": 3
   },
   "file_extension": ".py",
   "mimetype": "text/x-python",
   "name": "python",
   "nbconvert_exporter": "python",
   "pygments_lexer": "ipython3",
   "version": "3.11.1"
  }
 },
 "nbformat": 4,
 "nbformat_minor": 5
}
