{
 "cells": [
  {
   "attachments": {},
   "cell_type": "markdown",
   "metadata": {},
   "source": [
    "some examples"
   ]
  },
  {
   "cell_type": "code",
   "execution_count": 1,
   "metadata": {},
   "outputs": [],
   "source": [
    "# find all factors of n\n",
    "def factors(n): \n",
    "    factorlist = []\n",
    "    for i in range(1 , n + 1): \n",
    "        if n % i == 0 : \n",
    "            factorlist =  factorlist + [i]\n",
    "    return(factorlist )"
   ]
  },
  {
   "attachments": {},
   "cell_type": "markdown",
   "metadata": {},
   "source": [
    "Primes \n",
    "- only factors are 1 and itself"
   ]
  },
  {
   "cell_type": "code",
   "execution_count": 4,
   "metadata": {},
   "outputs": [
    {
     "data": {
      "text/plain": [
       "True"
      ]
     },
     "execution_count": 4,
     "metadata": {},
     "output_type": "execute_result"
    }
   ],
   "source": [
    "def isprime(n):\n",
    "    return(factors(n) == [1 , n])\n",
    "isprime(5)"
   ]
  },
  {
   "cell_type": "code",
   "execution_count": 5,
   "metadata": {},
   "outputs": [],
   "source": [
    "# primes upto n \n",
    "def primesupto(n): \n",
    "    primelist = []\n",
    "    for i in range(1  , n+1):\n",
    "        if isprime(i):\n",
    "            primelist = primelist + [i]\n",
    "    return(primelist)"
   ]
  },
  {
   "cell_type": "code",
   "execution_count": 6,
   "metadata": {},
   "outputs": [],
   "source": [
    "# first n primes \n",
    "# we dont know how many to scan ? \n",
    "def nprimes(n): \n",
    "    (count , i , plist) = (0 ,1 , [])\n",
    "    while(count < n): \n",
    "        if isprime(i): \n",
    "            (count , plist ) = (count + 1 , plist + [i])\n",
    "        i = i + 1 \n",
    "    return(plist)\n"
   ]
  },
  {
   "attachments": {},
   "cell_type": "markdown",
   "metadata": {},
   "source": [
    "for and while\n",
    "- can use while to simulate for"
   ]
  },
  {
   "attachments": {},
   "cell_type": "markdown",
   "metadata": {},
   "source": [
    "```py\n",
    "for n in range(i , j): \n",
    "    statment \n",
    "\n",
    "n = i \n",
    "while n < j : \n",
    "    statement \n",
    "    n = n + 1 \n",
    "-----------------------\n",
    "\n",
    "for n in l: \n",
    "    statement \n",
    "\n",
    "\n",
    "i = 0\n",
    "while i < len(l):\n",
    "    n = l[i]\n",
    "    statement \n",
    "    i = i + 1 \n"
   ]
  },
  {
   "cell_type": "code",
   "execution_count": 8,
   "metadata": {},
   "outputs": [],
   "source": [
    "# what makes a good program ?\n",
    "# Correctness and efficiency - algorithm\n",
    "# Readabiliy, ease of maintenance  - style\n",
    "# what you say and how yuo say it/"
   ]
  },
  {
   "cell_type": "code",
   "execution_count": 9,
   "metadata": {},
   "outputs": [],
   "source": [
    "import os \n",
    "os.mkdir(\"week3\")"
   ]
  }
 ],
 "metadata": {
  "kernelspec": {
   "display_name": "Python 3",
   "language": "python",
   "name": "python3"
  },
  "language_info": {
   "codemirror_mode": {
    "name": "ipython",
    "version": 3
   },
   "file_extension": ".py",
   "mimetype": "text/x-python",
   "name": "python",
   "nbconvert_exporter": "python",
   "pygments_lexer": "ipython3",
   "version": "3.11.1"
  },
  "orig_nbformat": 4
 },
 "nbformat": 4,
 "nbformat_minor": 2
}
