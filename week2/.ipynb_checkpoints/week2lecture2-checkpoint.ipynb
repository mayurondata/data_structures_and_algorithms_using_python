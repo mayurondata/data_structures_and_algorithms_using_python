{
 "cells": [
  {
   "cell_type": "markdown",
   "id": "e42cf65a",
   "metadata": {},
   "source": [
    "strings"
   ]
  },
  {
   "cell_type": "code",
   "execution_count": 25,
   "id": "9e60267a",
   "metadata": {},
   "outputs": [],
   "source": [
    "# Enclose in quotes - single , double , triple"
   ]
  },
  {
   "cell_type": "code",
   "execution_count": 30,
   "id": "57362222",
   "metadata": {
    "scrolled": true
   },
   "outputs": [
    {
     "data": {
      "text/plain": [
       "'He said his favorite book is \"Hitchiker\\'s guide to the Galaxy\"'"
      ]
     },
     "execution_count": 30,
     "metadata": {},
     "output_type": "execute_result"
    }
   ],
   "source": [
    "city = 'Chennai'\n",
    "# so a single quote can include double quote and a double quote can include a single \n",
    "# quote without any confusion\n",
    "title = 'Hitchhiker\"s Guide to the Galaxy'\n",
    "title2 = \"Hitchhiker's Guide to the Galaxy\"\n",
    " \n",
    "# what if we want to combine both double and single quote in a string..\n",
    "# we can use a triple quote  \n",
    "dialogue = '''He said his favorite book is \"Hitchiker's guide to the Galaxy\"'''\n",
    "dialogue"
   ]
  },
  {
   "cell_type": "code",
   "execution_count": 36,
   "id": "11d3a68c",
   "metadata": {},
   "outputs": [
    {
     "data": {
      "text/plain": [
       "' \"Hitchhiker\\'s\" '"
      ]
     },
     "execution_count": 36,
     "metadata": {},
     "output_type": "execute_result"
    }
   ],
   "source": [
    "myquote = ''' \"Hitchhiker's\" '''\n",
    "myquote\n",
    "# when the interpreter displays myquote it doesnot display in triple quotes it puts another \n",
    "# single quote outside and displays the internal single quote as been highlighted with a backslash\n",
    "# So, back slash  is python's way and\n",
    "# many programming languages’ way of saying that the next character should not be\n",
    "# treated as what it stands for, but as it is. So, just take the next single quote as a single\n",
    "# quote, do not treat as the end  of the quotation."
   ]
  },
  {
   "cell_type": "markdown",
   "id": "eec12755",
   "metadata": {},
   "source": [
    "* The other thing that you can do with triple quote is to actually write multiple lines. So, I\n",
    "* do this first line, and then second line, and then third line, and then close the quote then\n",
    "* my quote is shown as first line with back slash n. So, back slash again is a special\n",
    "* character which indicates a new line; then second line, then new line, and then third line.\n",
    "* We said before that python is very useful for manipulating text and one other thing that\n",
    "* you would like to do is actually read and say a paragraph of text or multiple lines of a\n",
    "* document and not have to worry about the fact that these are multiple lines just store it as\n",
    "* a text value as a string. This is very much possible in python you can embed multiple\n",
    "* lines of text into a single value."
   ]
  },
  {
   "cell_type": "code",
   "execution_count": 31,
   "id": "caa5c5c4",
   "metadata": {
    "scrolled": true
   },
   "outputs": [
    {
     "data": {
      "text/plain": [
       "'first line \\nsecond line \\nthird line'"
      ]
     },
     "execution_count": 31,
     "metadata": {},
     "output_type": "execute_result"
    }
   ],
   "source": [
    "myquote = '''first line \n",
    "second line \n",
    "third line'''\n",
    "# these are also called multiline string \n",
    "myquote\n",
    "# \\n is a special character indicates a new line \n",
    "myquote"
   ]
  },
  {
   "cell_type": "code",
   "execution_count": 92,
   "id": "af092d8f",
   "metadata": {},
   "outputs": [
    {
     "name": "stdout",
     "output_type": "stream",
     "text": [
      "first line \n",
      "second line \n",
      "third line \n"
     ]
    }
   ],
   "source": [
    "print(myquote)\n",
    "# in multiline string the text is printed exactly as shown without need for new line character"
   ]
  },
  {
   "cell_type": "code",
   "execution_count": 93,
   "id": "35575239",
   "metadata": {},
   "outputs": [
    {
     "ename": "SyntaxError",
     "evalue": "EOL while scanning string literal (1099201270.py, line 1)",
     "output_type": "error",
     "traceback": [
      "\u001b[1;36m  Input \u001b[1;32mIn [93]\u001b[1;36m\u001b[0m\n\u001b[1;33m    myquote = 'first line\u001b[0m\n\u001b[1;37m                          ^\u001b[0m\n\u001b[1;31mSyntaxError\u001b[0m\u001b[1;31m:\u001b[0m EOL while scanning string literal\n"
     ]
    }
   ],
   "source": [
    "myquote = 'first line \n",
    "             second line \n",
    "             third line '\n",
    "# interpreter throws an error "
   ]
  },
  {
   "cell_type": "code",
   "execution_count": 94,
   "id": "1dbfeea7",
   "metadata": {},
   "outputs": [
    {
     "ename": "SyntaxError",
     "evalue": "EOL while scanning string literal (3792327802.py, line 1)",
     "output_type": "error",
     "traceback": [
      "\u001b[1;36m  Input \u001b[1;32mIn [94]\u001b[1;36m\u001b[0m\n\u001b[1;33m    myquote = \"first line\u001b[0m\n\u001b[1;37m                          ^\u001b[0m\n\u001b[1;31mSyntaxError\u001b[0m\u001b[1;31m:\u001b[0m EOL while scanning string literal\n"
     ]
    }
   ],
   "source": [
    "myquote = \"first line \n",
    "second line \n",
    "third line \"\n",
    "# interpreter throws an error "
   ]
  },
  {
   "cell_type": "code",
   "execution_count": 95,
   "id": "69652bd7",
   "metadata": {},
   "outputs": [],
   "source": [
    "# \\n is refferend to as a new line character it is part of a special group of characters called \n",
    "# escape sequences "
   ]
  },
  {
   "cell_type": "code",
   "execution_count": 96,
   "id": "b7390c8b",
   "metadata": {},
   "outputs": [
    {
     "name": "stdout",
     "output_type": "stream",
     "text": [
      "hello\n",
      "world\n"
     ]
    }
   ],
   "source": [
    "# the new  line characters is implemented withing string literals to implement a new line \n",
    "print(\"hello\\nworld\")\n",
    "# executing the escape sequence after hello the cursor will move to the next line "
   ]
  },
  {
   "cell_type": "code",
   "execution_count": 14,
   "id": "c2dddd27",
   "metadata": {},
   "outputs": [],
   "source": [
    "# string : sequence or list of characters \n",
    "# positions 0 ,1 ,2 ,......,n-1\n",
    "# postiions : -1 , -2 ,.... count backwards from end."
   ]
  },
  {
   "cell_type": "markdown",
   "id": "1900a103",
   "metadata": {},
   "source": [
    "Opeerations on strings"
   ]
  },
  {
   "cell_type": "code",
   "execution_count": 35,
   "id": "7d0f3de1",
   "metadata": {},
   "outputs": [
    {
     "data": {
      "text/plain": [
       "'hello, there'"
      ]
     },
     "execution_count": 35,
     "metadata": {},
     "output_type": "execute_result"
    }
   ],
   "source": [
    "# Combine two strings : concatenation , operator + \n",
    "# one of the most basic things that we can do with strings is that we \n",
    "# can put them together. to combine two values into a larger string and this is called \n",
    "# concatenation.putting them one after the other  and the operator used for this is \"+\"\n",
    "s = \"hello\"\n",
    "t = s + \", there\""
   ]
  },
  {
   "cell_type": "code",
   "execution_count": 51,
   "id": "4e4debc4",
   "metadata": {},
   "outputs": [
    {
     "data": {
      "text/plain": [
       "'hello'"
      ]
     },
     "execution_count": 51,
     "metadata": {},
     "output_type": "execute_result"
    }
   ],
   "source": [
    "# extracting substrnigs \n",
    "a = 'hello'\n",
    "s[1:4]\n",
    "s[:3]\n",
    "s[2 : ]\n",
    "s[3:1] # doesnot give an error\n",
    "s[0:7]\n",
    "# if we give values which do not make sense .As far as possible python tries to do something sensible \n",
    "# with the slice defination."
   ]
  },
  {
   "cell_type": "markdown",
   "id": "2e770fd8",
   "metadata": {},
   "source": [
    "Modifying strings "
   ]
  },
  {
   "cell_type": "code",
   "execution_count": 59,
   "id": "de9f3cdc",
   "metadata": {},
   "outputs": [],
   "source": [
    "# though we have access to individual positions or individual slices or sequence \n",
    "# within a string we cannot take a part of string and change it as it stands. so we cannot update a string \n",
    "# in place by changing it's parts \n",
    "s = 'hello'\n",
    "# s[3] = 'p' # python doesnot allow this \n",
    "# what we can effectivly do is \n",
    "s = s[:3] + 'p!'\n",
    "# strings are immutable!(cannot change them without creating a fresh value)"
   ]
  }
 ],
 "metadata": {
  "kernelspec": {
   "display_name": "Python 3 (ipykernel)",
   "language": "python",
   "name": "python3"
  },
  "language_info": {
   "codemirror_mode": {
    "name": "ipython",
    "version": 3
   },
   "file_extension": ".py",
   "mimetype": "text/x-python",
   "name": "python",
   "nbconvert_exporter": "python",
   "pygments_lexer": "ipython3",
   "version": "3.9.12"
  }
 },
 "nbformat": 4,
 "nbformat_minor": 5
}
