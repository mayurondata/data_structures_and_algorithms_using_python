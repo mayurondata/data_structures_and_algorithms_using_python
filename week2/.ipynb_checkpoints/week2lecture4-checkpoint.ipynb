{
 "cells": [
  {
   "cell_type": "code",
   "execution_count": 1,
   "id": "f7dd6d31",
   "metadata": {},
   "outputs": [],
   "source": [
    "#this kind of execution which varies the order in which statements are executed is refferred to in \n",
    "#programming  languages as control flow....."
   ]
  },
  {
   "cell_type": "markdown",
   "id": "11bc2462",
   "metadata": {},
   "source": [
    "Control Flow\n",
    "- need to vary computation steps as values change\n",
    "- Control flow - determines order in which statements are executed \n",
    "    - condidional execution\n",
    "    - repeated execution\n",
    "    - Function defination"
   ]
  },
  {
   "cell_type": "markdown",
   "id": "05e08e11",
   "metadata": {},
   "source": [
    "conditional execution:"
   ]
  },
  {
   "cell_type": "markdown",
   "id": "910e4375",
   "metadata": {},
   "source": [
    " # conditional execution in python is written using the if statement.\n",
    "```python\n",
    "if #condition:\n",
    "    #statement\n",
    "```\n",
    "- the statement is governed by the condition\n",
    "- indentation demarcates the body of the if .the body refers \n",
    "- to those statements which are governed by the condition that we have just checked \n",
    "```python \n",
    "if #condition:\n",
    "    #statement_1 # Execute conditionally.\n",
    "    #statement_2 # Execute conditionally,\n",
    "#statement_3 # Execute unconditionally.\n",
    "```"
   ]
  },
  {
   "cell_type": "code",
   "execution_count": 5,
   "id": "ae543957",
   "metadata": {},
   "outputs": [],
   "source": [
    "# alternate execution :-else."
   ]
  },
  {
   "cell_type": "markdown",
   "id": "d2ad3632",
   "metadata": {},
   "source": [
    "- shortcuts for conditions \n",
    "- numeric value 0  is treated as False \n",
    "- empy sequence \"\" , [] is treated as False \n",
    "- Everything else is True \n",
    "```python\n",
    "if m % n :\n",
    "    # if this condition holds is the same as asking whether m % n is nonzero value.\n",
    "    # if it is non zero value we want to replace m and n\n",
    "    (m , n) = (n , m)\n",
    "else : \n",
    "    gcd = n \n",
    "```"
   ]
  },
  {
   "cell_type": "markdown",
   "id": "561b93af",
   "metadata": {},
   "source": [
    " sometimes we do not want to check between one of two conditions but one of many conditions \n",
    " mutiway branching,elif:\n",
    "```python\n",
    "# 3, two way decisions....\n",
    "  if x == 1 :\n",
    "        y = f1()\n",
    "  else:\n",
    "    if x == 2:\n",
    "        y = f2()\n",
    "    else :\n",
    "        if x == 3: \n",
    "            y = f3()\n",
    "        else : \n",
    "            y = f4()\n",
    "```\n",
    "we can replace nested else if by elif in this way. this makes the code more readable.\n",
    "combine the else and the if into a second check elif.\n",
    "```python\n",
    "if x == 1 : \n",
    "    y = f1()\n",
    "elif x ==2 : \n",
    "    y = f2()\n",
    "elif x == 3:\n",
    "    y == f3()\n",
    "    "
   ]
  },
  {
   "cell_type": "markdown",
   "id": "44d9ed28",
   "metadata": {},
   "source": [
    "Loops : repeated actions "
   ]
  },
  {
   "cell_type": "code",
   "execution_count": 7,
   "id": "fe9970c4",
   "metadata": {},
   "outputs": [],
   "source": [
    "# the most basic requirement is to do something for a fixed number of times..."
   ]
  },
  {
   "cell_type": "code",
   "execution_count": 12,
   "id": "2a8c5f10",
   "metadata": {},
   "outputs": [],
   "source": [
    "# find all the factors of a numbers.\n",
    "# will merely digest the defination.....\n",
    "def factors(n):\n",
    "    flist = []\n",
    "    for i in range(1, n + 1 ):\n",
    "        if n % i == 0:\n",
    "            flist = flist + [i] # pasting lists together using concatenation...\n",
    "    return(flist)"
   ]
  },
  {
   "cell_type": "markdown",
   "id": "73dd8f5a",
   "metadata": {},
   "source": [
    "- loops based on a condition \n",
    "- often we don't know the number of repetiitons in advance..\n",
    "- while executes something so long as the condition hold...\n",
    "```python\n",
    "while condition:\n",
    "    . . . \n",
    "``` \n",
    "- Execute body if condition evaluates to True \n",
    "- After each iteration , check condition again."
   ]
  },
  {
   "cell_type": "markdown",
   "id": "38cc6c8b",
   "metadata": {},
   "source": [
    "We Can alter the control flow like so:\n",
    "\n",
    "    - if - elif - else <-- conditional execution\n",
    "    - for i in .... <-- repeat a fixed number of times \n",
    "    - while .... <-- repeat based on a condition.."
   ]
  }
 ],
 "metadata": {
  "kernelspec": {
   "display_name": "Python 3 (ipykernel)",
   "language": "python",
   "name": "python3"
  },
  "language_info": {
   "codemirror_mode": {
    "name": "ipython",
    "version": 3
   },
   "file_extension": ".py",
   "mimetype": "text/x-python",
   "name": "python",
   "nbconvert_exporter": "python",
   "pygments_lexer": "ipython3",
   "version": "3.9.12"
  }
 },
 "nbformat": 4,
 "nbformat_minor": 5
}
