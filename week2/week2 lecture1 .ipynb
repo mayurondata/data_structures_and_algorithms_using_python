{
 "cells": [
  {
   "cell_type": "markdown",
   "id": "657def78",
   "metadata": {},
   "source": [
    "Assignment statement basic types int , float , bool"
   ]
  },
  {
   "cell_type": "markdown",
   "id": "7eaa1cda",
   "metadata": {},
   "source": [
    "int vs float "
   ]
  },
  {
   "cell_type": "code",
   "execution_count": 7,
   "id": "f443e007",
   "metadata": {},
   "outputs": [
    {
     "data": {
      "text/plain": [
       "(1, 2)"
      ]
     },
     "execution_count": 7,
     "metadata": {},
     "output_type": "execute_result"
    }
   ],
   "source": [
    "def divisors(n):\n",
    "    divisors = []\n",
    "    for i in range(1, n):\n",
    "        if n % i == 0 :\n",
    "            divisors += [i]\n",
    "    return divisors\n",
    "def prime_partition(num):\n",
    "    "
   ]
  },
  {
   "cell_type": "code",
   "execution_count": 6,
   "id": "e609a54f",
   "metadata": {},
   "outputs": [],
   "source": [
    "# programs "
   ]
  },
  {
   "cell_type": "code",
   "execution_count": 2,
   "id": "2ee9d5b1",
   "metadata": {},
   "outputs": [],
   "source": [
    "def divides(m ,n):\n",
    "    if (n%m)== 0:\n",
    "        return True\n",
    "    if (n%m) != 0:\n",
    "        return False\n",
    "def even(n):\n",
    "    return (divides(2, n))\n",
    "def odd(n):\n",
    "    return (not divides(2,n))"
   ]
  },
  {
   "cell_type": "code",
   "execution_count": 4,
   "id": "17ac0fe9",
   "metadata": {},
   "outputs": [],
   "source": [
    "# boolean values can be computed , assigned , passed around just like numeric values are..."
   ]
  }
 ],
 "metadata": {
  "kernelspec": {
   "display_name": "Python 3 (ipykernel)",
   "language": "python",
   "name": "python3"
  },
  "language_info": {
   "codemirror_mode": {
    "name": "ipython",
    "version": 3
   },
   "file_extension": ".py",
   "mimetype": "text/x-python",
   "name": "python",
   "nbconvert_exporter": "python",
   "pygments_lexer": "ipython3",
   "version": "3.9.12"
  }
 },
 "nbformat": 4,
 "nbformat_minor": 5
}
